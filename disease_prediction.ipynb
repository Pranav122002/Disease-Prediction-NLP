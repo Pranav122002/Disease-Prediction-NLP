{
 "cells": [
  {
   "cell_type": "markdown",
   "metadata": {},
   "source": [
    "# Disease Prediction based on symptoms using NLP"
   ]
  },
  {
   "cell_type": "markdown",
   "metadata": {},
   "source": [
    "## Importing libraries"
   ]
  },
  {
   "cell_type": "code",
   "execution_count": 1,
   "metadata": {},
   "outputs": [],
   "source": [
    "import os\n",
    "import pickle\n",
    "import pandas as pd \n",
    "import seaborn as sns\n",
    "from sklearn.feature_extraction.text import CountVectorizer, TfidfVectorizer\n",
    "from sklearn.model_selection import train_test_split\n",
    "from sklearn.linear_model import PassiveAggressiveClassifier\n",
    "from sklearn.naive_bayes import MultinomialNB\n",
    "from sklearn import metrics\n",
    "import matplotlib.pyplot as plt\n",
    "%matplotlib inline\n",
    "\n",
    "# To show all the rows of pandas dataframe\n",
    "pd.set_option('display.max_rows', None)\n",
    "\n",
    "# To set the width of the column to maximum\n",
    "pd.set_option('max_colwidth', 1)"
   ]
  },
  {
   "cell_type": "markdown",
   "metadata": {},
   "source": [
    "## Importing dataset"
   ]
  },
  {
   "cell_type": "code",
   "execution_count": 2,
   "metadata": {},
   "outputs": [],
   "source": [
    "df=pd.read_csv('dataset/drugsComTrain_raw.csv')"
   ]
  },
  {
   "cell_type": "markdown",
   "metadata": {},
   "source": [
    "## Exploratory Data Analysis"
   ]
  },
  {
   "cell_type": "code",
   "execution_count": 3,
   "metadata": {},
   "outputs": [
    {
     "data": {
      "text/plain": [
       "(161297, 7)"
      ]
     },
     "execution_count": 3,
     "metadata": {},
     "output_type": "execute_result"
    }
   ],
   "source": [
    "df.shape"
   ]
  },
  {
   "cell_type": "code",
   "execution_count": 4,
   "metadata": {},
   "outputs": [
    {
     "data": {
      "text/html": [
       "<div>\n",
       "<style scoped>\n",
       "    .dataframe tbody tr th:only-of-type {\n",
       "        vertical-align: middle;\n",
       "    }\n",
       "\n",
       "    .dataframe tbody tr th {\n",
       "        vertical-align: top;\n",
       "    }\n",
       "\n",
       "    .dataframe thead th {\n",
       "        text-align: right;\n",
       "    }\n",
       "</style>\n",
       "<table border=\"1\" class=\"dataframe\">\n",
       "  <thead>\n",
       "    <tr style=\"text-align: right;\">\n",
       "      <th></th>\n",
       "      <th>uniqueID</th>\n",
       "      <th>drugName</th>\n",
       "      <th>condition</th>\n",
       "      <th>review</th>\n",
       "      <th>rating</th>\n",
       "      <th>date</th>\n",
       "      <th>usefulCount</th>\n",
       "    </tr>\n",
       "  </thead>\n",
       "  <tbody>\n",
       "    <tr>\n",
       "      <th>0</th>\n",
       "      <td>206461</td>\n",
       "      <td>Valsartan</td>\n",
       "      <td>Left Ventricular Dysfunction</td>\n",
       "      <td>\"It has no side effect, I take it in combination of Bystolic 5 Mg and Fish Oil\"</td>\n",
       "      <td>9</td>\n",
       "      <td>May 20, 2012</td>\n",
       "      <td>27</td>\n",
       "    </tr>\n",
       "    <tr>\n",
       "      <th>1</th>\n",
       "      <td>95260</td>\n",
       "      <td>Guanfacine</td>\n",
       "      <td>ADHD</td>\n",
       "      <td>\"My son is halfway through his fourth week of Intuniv. We became concerned when he began this last week, when he started taking the highest dose he will be on. For two days, he could hardly get out of bed, was very cranky, and slept for nearly 8 hours on a drive home from school vacation (very unusual for him.) I called his doctor on Monday morning and she said to stick it out a few days. See how he did at school, and with getting up in the morning. The last two days have been problem free. He is MUCH more agreeable than ever. He is less emotional (a good thing), less cranky. He is remembering all the things he should. Overall his behavior is better. \\nWe have tried many different medications and so far this is the most effective.\"</td>\n",
       "      <td>8</td>\n",
       "      <td>April 27, 2010</td>\n",
       "      <td>192</td>\n",
       "    </tr>\n",
       "    <tr>\n",
       "      <th>2</th>\n",
       "      <td>92703</td>\n",
       "      <td>Lybrel</td>\n",
       "      <td>Birth Control</td>\n",
       "      <td>\"I used to take another oral contraceptive, which had 21 pill cycle, and was very happy- very light periods, max 5 days, no other side effects. But it contained hormone gestodene, which is not available in US, so I switched to Lybrel, because the ingredients are similar. When my other pills ended, I started Lybrel immediately, on my first day of period, as the instructions said. And the period lasted for two weeks. When taking the second pack- same two weeks. And now, with third pack things got even worse- my third period lasted for two weeks and now it&amp;#039;s the end of the third week- I still have daily brown discharge.\\nThe positive side is that I didn&amp;#039;t have any other side effects. The idea of being period free was so tempting... Alas.\"</td>\n",
       "      <td>5</td>\n",
       "      <td>December 14, 2009</td>\n",
       "      <td>17</td>\n",
       "    </tr>\n",
       "    <tr>\n",
       "      <th>3</th>\n",
       "      <td>138000</td>\n",
       "      <td>Ortho Evra</td>\n",
       "      <td>Birth Control</td>\n",
       "      <td>\"This is my first time using any form of birth control. I&amp;#039;m glad I went with the patch, I have been on it for 8 months. At first It decreased my libido but that subsided. The only downside is that it made my periods longer (5-6 days to be exact) I used to only have periods for 3-4 days max also made my cramps intense for the first two days of my period, I never had cramps before using birth control. Other than that in happy with the patch\"</td>\n",
       "      <td>8</td>\n",
       "      <td>November 3, 2015</td>\n",
       "      <td>10</td>\n",
       "    </tr>\n",
       "    <tr>\n",
       "      <th>4</th>\n",
       "      <td>35696</td>\n",
       "      <td>Buprenorphine / naloxone</td>\n",
       "      <td>Opiate Dependence</td>\n",
       "      <td>\"Suboxone has completely turned my life around.  I feel healthier, I&amp;#039;m excelling at my job and I always have money in my pocket and my savings account.  I had none of those before Suboxone and spent years abusing oxycontin.  My paycheck was already spent by the time I got it and I started resorting to scheming and stealing to fund my addiction.  All that is history.  If you&amp;#039;re ready to stop, there&amp;#039;s a good chance that suboxone will put you on the path of great life again.  I have found the side-effects to be minimal compared to oxycontin.  I&amp;#039;m actually sleeping better.   Slight constipation is about it for me.  It truly is amazing. The cost pales in comparison to what I spent on oxycontin.\"</td>\n",
       "      <td>9</td>\n",
       "      <td>November 27, 2016</td>\n",
       "      <td>37</td>\n",
       "    </tr>\n",
       "  </tbody>\n",
       "</table>\n",
       "</div>"
      ],
      "text/plain": [
       "   uniqueID                  drugName                     condition  \\\n",
       "0  206461    Valsartan                 Left Ventricular Dysfunction   \n",
       "1  95260     Guanfacine                ADHD                           \n",
       "2  92703     Lybrel                    Birth Control                  \n",
       "3  138000    Ortho Evra                Birth Control                  \n",
       "4  35696     Buprenorphine / naloxone  Opiate Dependence              \n",
       "\n",
       "                                                                                                                                                                                                                                                                                                                                                                                                                                                                                                                                                                                                                                                                                                                                                                                review  \\\n",
       "0  \"It has no side effect, I take it in combination of Bystolic 5 Mg and Fish Oil\"                                                                                                                                                                                                                                                                                                                                                                                                                                                                                                                                                                                                                                                                                                       \n",
       "1  \"My son is halfway through his fourth week of Intuniv. We became concerned when he began this last week, when he started taking the highest dose he will be on. For two days, he could hardly get out of bed, was very cranky, and slept for nearly 8 hours on a drive home from school vacation (very unusual for him.) I called his doctor on Monday morning and she said to stick it out a few days. See how he did at school, and with getting up in the morning. The last two days have been problem free. He is MUCH more agreeable than ever. He is less emotional (a good thing), less cranky. He is remembering all the things he should. Overall his behavior is better. \\nWe have tried many different medications and so far this is the most effective.\"                 \n",
       "2  \"I used to take another oral contraceptive, which had 21 pill cycle, and was very happy- very light periods, max 5 days, no other side effects. But it contained hormone gestodene, which is not available in US, so I switched to Lybrel, because the ingredients are similar. When my other pills ended, I started Lybrel immediately, on my first day of period, as the instructions said. And the period lasted for two weeks. When taking the second pack- same two weeks. And now, with third pack things got even worse- my third period lasted for two weeks and now it&#039;s the end of the third week- I still have daily brown discharge.\\nThe positive side is that I didn&#039;t have any other side effects. The idea of being period free was so tempting... Alas.\"   \n",
       "3  \"This is my first time using any form of birth control. I&#039;m glad I went with the patch, I have been on it for 8 months. At first It decreased my libido but that subsided. The only downside is that it made my periods longer (5-6 days to be exact) I used to only have periods for 3-4 days max also made my cramps intense for the first two days of my period, I never had cramps before using birth control. Other than that in happy with the patch\"                                                                                                                                                                                                                                                                                                                      \n",
       "4  \"Suboxone has completely turned my life around.  I feel healthier, I&#039;m excelling at my job and I always have money in my pocket and my savings account.  I had none of those before Suboxone and spent years abusing oxycontin.  My paycheck was already spent by the time I got it and I started resorting to scheming and stealing to fund my addiction.  All that is history.  If you&#039;re ready to stop, there&#039;s a good chance that suboxone will put you on the path of great life again.  I have found the side-effects to be minimal compared to oxycontin.  I&#039;m actually sleeping better.   Slight constipation is about it for me.  It truly is amazing. The cost pales in comparison to what I spent on oxycontin.\"                                       \n",
       "\n",
       "   rating               date  usefulCount  \n",
       "0  9       May 20, 2012       27           \n",
       "1  8       April 27, 2010     192          \n",
       "2  5       December 14, 2009  17           \n",
       "3  8       November 3, 2015   10           \n",
       "4  9       November 27, 2016  37           "
      ]
     },
     "execution_count": 4,
     "metadata": {},
     "output_type": "execute_result"
    }
   ],
   "source": [
    "df.head()"
   ]
  },
  {
   "cell_type": "code",
   "execution_count": 5,
   "metadata": {},
   "outputs": [
    {
     "data": {
      "text/plain": [
       "condition\n",
       "Birth Control                                                          28788\n",
       "Depression                                                             9069 \n",
       "Pain                                                                   6145 \n",
       "Anxiety                                                                5904 \n",
       "Acne                                                                   5588 \n",
       "Bipolar Disorde                                                        4224 \n",
       "Insomnia                                                               3673 \n",
       "Weight Loss                                                            3609 \n",
       "Obesity                                                                3568 \n",
       "ADHD                                                                   3383 \n",
       "Diabetes, Type 2                                                       2554 \n",
       "Emergency Contraception                                                2463 \n",
       "High Blood Pressure                                                    2321 \n",
       "Vaginal Yeast Infection                                                2274 \n",
       "Abnormal Uterine Bleeding                                              2096 \n",
       "Bowel Preparation                                                      1859 \n",
       "ibromyalgia                                                            1791 \n",
       "Smoking Cessation                                                      1780 \n",
       "Migraine                                                               1694 \n",
       "Anxiety and Stress                                                     1663 \n",
       "Major Depressive Disorde                                               1607 \n",
       "Constipation                                                           1595 \n",
       "Panic Disorde                                                          1463 \n",
       "Chronic Pain                                                           1455 \n",
       "Migraine Prevention                                                    1413 \n",
       "Urinary Tract Infection                                                1316 \n",
       "Muscle Spasm                                                           1244 \n",
       "Osteoarthritis                                                         1239 \n",
       "Generalized Anxiety Disorde                                            1164 \n",
       "Erectile Dysfunction                                                   1086 \n",
       "Opiate Dependence                                                      1079 \n",
       "Irritable Bowel Syndrome                                               1014 \n",
       "Rheumatoid Arthritis                                                   995  \n",
       "Allergic Rhinitis                                                      973  \n",
       "Bacterial Infection                                                    945  \n",
       "Cough                                                                  927  \n",
       "Sinusitis                                                              835  \n",
       "Nausea/Vomiting                                                        747  \n",
       "GERD                                                                   722  \n",
       "Multiple Sclerosis                                                     698  \n",
       "Overactive Bladde                                                      683  \n",
       "Hyperhidrosis                                                          677  \n",
       "Hepatitis C                                                            656  \n",
       "Back Pain                                                              616  \n",
       "HIV Infection                                                          615  \n",
       "High Cholesterol                                                       611  \n",
       "Psoriasis                                                              598  \n",
       "Schizophrenia                                                          594  \n",
       "Constipation, Chronic                                                  591  \n",
       "Obsessive Compulsive Disorde                                           579  \n",
       "Restless Legs Syndrome                                                 565  \n",
       "Benign Prostatic Hyperplasia                                           561  \n",
       "Endometriosis                                                          558  \n",
       "Bronchitis                                                             550  \n",
       "Bacterial Vaginitis                                                    524  \n",
       "Rosacea                                                                519  \n",
       "Seizures                                                               508  \n",
       "Narcolepsy                                                             506  \n",
       "Hypogonadism, Male                                                     502  \n",
       "Asthma, Maintenance                                                    501  \n",
       "Headache                                                               473  \n",
       "Underactive Thyroid                                                    449  \n",
       "Not Listed / Othe                                                      439  \n",
       "Schizoaffective Disorde                                                396  \n",
       "Onychomycosis, Toenail                                                 396  \n",
       "Bladder Infection                                                      395  \n",
       "Social Anxiety Disorde                                                 389  \n",
       "Alcohol Dependence                                                     388  \n",
       "Herpes Simplex                                                         386  \n",
       "Osteoporosis                                                           372  \n",
       "Cold Sores                                                             367  \n",
       "Epilepsy                                                               358  \n",
       "Cough and Nasal Congestion                                             356  \n",
       "Menstrual Disorders                                                    350  \n",
       "Influenza                                                              350  \n",
       "Plaque Psoriasis                                                       332  \n",
       "Opiate Withdrawal                                                      327  \n",
       "Psoriatic Arthritis                                                    324  \n",
       "Post Traumatic Stress Disorde                                          314  \n",
       "Postmenopausal Symptoms                                                313  \n",
       "Polycystic Ovary Syndrome                                              309  \n",
       "Inflammatory Conditions                                                303  \n",
       "Premenstrual Dysphoric Disorde                                         298  \n",
       "Nasal Congestion                                                       290  \n",
       "Pneumonia                                                              276  \n",
       "Chlamydia Infection                                                    273  \n",
       "Atrial Fibrillation                                                    272  \n",
       "Breast Cance                                                           272  \n",
       "Urticaria                                                              264  \n",
       "Helicobacter Pylori Infection                                          260  \n",
       "Hot Flashes                                                            255  \n",
       "Neuropathic Pain                                                       253  \n",
       "Anesthesia                                                             252  \n",
       "COPD, Maintenance                                                      250  \n",
       "Ulcerative Colitis                                                     238  \n",
       "Constipation, Drug Induced                                             228  \n",
       "Skin or Soft Tissue Infection                                          225  \n",
       "Asthma                                                                 225  \n",
       "Alcohol Withdrawal                                                     217  \n",
       "Ankylosing Spondylitis                                                 209  \n",
       "Motion Sickness                                                        203  \n",
       "Gout, Acute                                                            196  \n",
       "Crohn's Disease, Maintenance                                           192  \n",
       "mance Anxiety                                                          187  \n",
       "Seizure Prevention                                                     183  \n",
       "Atrophic Vaginitis                                                     182  \n",
       "Allergies                                                              179  \n",
       "Interstitial Cystitis                                                  178  \n",
       "Peripheral Neuropathy                                                  176  \n",
       "Diabetic Peripheral Neuropathy                                         175  \n",
       "Hashimoto's disease                                                    173  \n",
       "Upper Respiratory Tract Infection                                      171  \n",
       "Crohn's Disease                                                        168  \n",
       "Urinary Incontinence                                                   168  \n",
       "Herpes Simplex, Suppression                                            166  \n",
       "Cluster Headaches                                                      166  \n",
       "Eczema                                                                 166  \n",
       "Sedation                                                               165  \n",
       "Atopic Dermatitis                                                      162  \n",
       "Trigeminal Neuralgia                                                   162  \n",
       "Prevention of Thromboembolism in Atrial Fibrillation                   160  \n",
       "COPD                                                                   159  \n",
       "Ovarian Cysts                                                          152  \n",
       "Otitis Media                                                           152  \n",
       "Hypothyroidism, After Thyroid Removal                                  151  \n",
       "Borderline Personality Disorde                                         151  \n",
       "Dry Eye Disease                                                        147  \n",
       "Bacterial Skin Infection                                               146  \n",
       "Diverticulitis                                                         142  \n",
       "Diabetes, Type 1                                                       140  \n",
       "Period Pain                                                            139  \n",
       "Asthma, acute                                                          135  \n",
       "Ulcerative Colitis, Active                                             132  \n",
       "Sciatica                                                               124  \n",
       "Prostate Cance                                                         123  \n",
       "Nausea/Vomiting of Pregnancy                                           123  \n",
       "Parkinson's Disease                                                    120  \n",
       "Kidney Infections                                                      117  \n",
       "Cold Symptoms                                                          116  \n",
       "Diarrhea                                                               110  \n",
       "Strep Throat                                                           109  \n",
       "Tonsillitis/Pharyngitis                                                106  \n",
       "Keratosis                                                              106  \n",
       "Gout                                                                   105  \n",
       "0</span> users found this comment helpful.                             104  \n",
       "Breast Cancer, Metastatic                                              102  \n",
       "Dietary Supplementation                                                102  \n",
       "Human Papilloma Virus                                                  102  \n",
       "Vertig                                                                 101  \n",
       "Urinary Tract Stones                                                   101  \n",
       "Arrhythmia                                                             97   \n",
       "Renal Cell Carcinoma                                                   95   \n",
       "Systemic Lupus Erythematosus                                           95   \n",
       "Non-Small Cell Lung Cance                                              94   \n",
       "Neuralgia                                                              94   \n",
       "Angina                                                                 93   \n",
       "Edema                                                                  93   \n",
       "Dermatitis                                                             93   \n",
       "Amenorrhea                                                             92   \n",
       "Prostatitis                                                            91   \n",
       "Autism                                                                 90   \n",
       "Dental Abscess                                                         90   \n",
       "Chronic Myelogenous Leukemia                                           89   \n",
       "Alopecia                                                               89   \n",
       "Benign Essential Trem                                                  89   \n",
       "Hemorrhoids                                                            88   \n",
       "Heart Failure                                                          88   \n",
       "Chronic Fatigue Syndrome                                               88   \n",
       "Muscle Pain                                                            88   \n",
       "Supraventricular Tachycardia                                           86   \n",
       "Sinus Symptoms                                                         86   \n",
       "Deep Vein Thrombosis                                                   86   \n",
       "2</span> users found this comment helpful.                             85   \n",
       "Allergic Reactions                                                     85   \n",
       "Alzheimer's Disease                                                    85   \n",
       "Rhinitis                                                               84   \n",
       "3</span> users found this comment helpful.                             84   \n",
       "Postpartum Depression                                                  84   \n",
       "1</span> users found this comment helpful.                             83   \n",
       "Obstructive Sleep Apnea/Hypopnea Syndrome                              80   \n",
       "Anorexia                                                               80   \n",
       "Menorrhagia                                                            80   \n",
       "moterol)                                                               79   \n",
       "Nausea/Vomiting, Chemotherapy Induced                                  79   \n",
       "Dry Skin                                                               78   \n",
       "Premature Lab                                                          76   \n",
       "Vitamin/Mineral Supplementation during Pregnancy/Lactation             74   \n",
       "Barrett's Esophagus                                                    74   \n",
       "Hirsutism                                                              74   \n",
       "Dysuria                                                                73   \n",
       "Psychosis                                                              73   \n",
       "Conjunctivitis, Allergic                                               73   \n",
       "Hypertriglyceridemia                                                   73   \n",
       "Melasma                                                                72   \n",
       "Stomach Ulce                                                           72   \n",
       "Binge Eating Disorde                                                   72   \n",
       "Postherpetic Neuralgia                                                 71   \n",
       "Trichomoniasis                                                         70   \n",
       "Erosive Esophagitis                                                    70   \n",
       "Hypersomnia                                                            70   \n",
       "Sexual Dysfunction, SSRI Induced                                       69   \n",
       "Pulmonary Embolism                                                     68   \n",
       "Tourette's Syndrome                                                    68   \n",
       "Seasonal Allergic Conjunctivitis                                       68   \n",
       "Prevention of Bladder infection                                        68   \n",
       "Head Lice                                                              67   \n",
       "4</span> users found this comment helpful.                             66   \n",
       "emale Infertility                                                      65   \n",
       "Pulmonary Hypertension                                                 64   \n",
       "Conjunctivitis, Bacterial                                              62   \n",
       "High Cholesterol, Familial Heterozygous                                62   \n",
       "Pseudotumor Cerebri                                                    62   \n",
       "Chronic Idiopathic Constipation                                        60   \n",
       "Shift Work Sleep Disorde                                               60   \n",
       "Light Sedation                                                         60   \n",
       "Eye Redness                                                            59   \n",
       "Bulimia                                                                58   \n",
       "Glaucoma, Open Angle                                                   57   \n",
       "Cervical Dystonia                                                      56   \n",
       "Reflex Sympathetic Dystrophy Syndrome                                  55   \n",
       "Heart Attack                                                           55   \n",
       "Acute Coronary Syndrome                                                54   \n",
       "Hyperprolactinemia                                                     54   \n",
       "Keratoconjunctivitis Sicca                                             54   \n",
       "Basal Cell Carcinoma                                                   54   \n",
       "Organ Transplant, Rejection Prophylaxis                                53   \n",
       "atigue                                                                 53   \n",
       "Skin and Structure Infection                                           53   \n",
       "Mania                                                                  53   \n",
       "Perimenopausal Symptoms                                                50   \n",
       "Sjogren's Syndrome                                                     50   \n",
       "Raynaud's Syndrome                                                     50   \n",
       "Uterine Fibroids                                                       49   \n",
       "Indigestion                                                            48   \n",
       "Androgenetic Alopecia                                                  48   \n",
       "Burns, External                                                        47   \n",
       "Diarrhea, Chronic                                                      47   \n",
       "Crohn's Disease, Acute                                                 47   \n",
       "6</span> users found this comment helpful.                             46   \n",
       "Ulcerative Colitis, Maintenance                                        45   \n",
       "Malaria Prevention                                                     45   \n",
       "min)                                                                   45   \n",
       "Opioid-Induced Constipation                                            44   \n",
       "Pruritus                                                               44   \n",
       "Neutropenia Associated with Chemotherapy                               43   \n",
       "Tendonitis                                                             43   \n",
       "Periodic Limb Movement Disorde                                         43   \n",
       "5</span> users found this comment helpful.                             40   \n",
       "Myasthenia Gravis                                                      40   \n",
       "Agitated State                                                         38   \n",
       "Paranoid Disorde                                                       38   \n",
       "Postoperative Pain                                                     38   \n",
       "Gastroenteritis                                                        38   \n",
       "Dermatological Disorders                                               38   \n",
       "Gastroparesis                                                          37   \n",
       "Clostridial Infection                                                  37   \n",
       "7</span> users found this comment helpful.                             37   \n",
       "Colorectal Cance                                                       37   \n",
       "Vulvodynia                                                             35   \n",
       "Lyme Disease                                                           35   \n",
       "Constipation, Acute                                                    35   \n",
       "Primary Immunodeficiency Syndrome                                      35   \n",
       "Gouty Arthritis                                                        34   \n",
       "Iron Deficiency Anemia                                                 34   \n",
       "Eye Redness/Itching                                                    34   \n",
       "Glaucoma                                                               34   \n",
       "Oophorectomy                                                           34   \n",
       "Tinnitus                                                               34   \n",
       "ge (amlodipine / valsartan)                                            33   \n",
       "Breakthrough Pain                                                      33   \n",
       "Human Papillomavirus Prophylaxis                                       33   \n",
       "acial Wrinkles                                                         32   \n",
       "8</span> users found this comment helpful.                             31   \n",
       "Condylomata Acuminata                                                  31   \n",
       "COPD, Acute                                                            30   \n",
       "Influenza Prophylaxis                                                  30   \n",
       "Temporomandibular Joint Disorde                                        30   \n",
       "Oral Thrush                                                            30   \n",
       "Seborrheic Dermatitis                                                  30   \n",
       "Ventricular Tachycardia                                                30   \n",
       "9</span> users found this comment helpful.                             30   \n",
       "Duodenal Ulce                                                          29   \n",
       "Mitral Valve Prolapse                                                  29   \n",
       "Actinic Keratosis                                                      29   \n",
       "moterol / mometasone)                                                  29   \n",
       "10</span> users found this comment helpful.                            28   \n",
       "Light Anesthesia                                                       28   \n",
       "Herbal Supplementation                                                 28   \n",
       "Cyclic Vomiting Syndrome                                               28   \n",
       "Dysautonomia                                                           28   \n",
       "Insomnia, Stimulant-Associated                                         27   \n",
       "Hiccups                                                                27   \n",
       "Photoaging of the Skin                                                 27   \n",
       "Chronic Lymphocytic Leukemia                                           26   \n",
       "Otitis Externa                                                         26   \n",
       "Night Terrors                                                          26   \n",
       "min / sitagliptin)                                                     26   \n",
       "Postural Orthostatic Tachycardia Syndrome                              26   \n",
       "Juvenile Rheumatoid Arthritis                                          26   \n",
       "Tinea Corporis                                                         25   \n",
       "Nocturnal Leg Cramps                                                   25   \n",
       "Precocious Puberty                                                     25   \n",
       "Herpes Zoste                                                           25   \n",
       "Extrapyramidal Reaction                                                25   \n",
       "Pharyngitis                                                            24   \n",
       "Inflammatory Bowel Disease                                             24   \n",
       "Postoperative Ocular Inflammation                                      24   \n",
       "Labor Pain                                                             24   \n",
       "Pneumococcal Disease Prophylaxis                                       24   \n",
       "Vitamin/Mineral Supplementation and Deficiency                         23   \n",
       "Atrophic Urethritis                                                    23   \n",
       "Skin Cance                                                             22   \n",
       "Bone infection                                                         22   \n",
       "Allergic Urticaria                                                     22   \n",
       "Ischemic Stroke, Prophylaxis                                           22   \n",
       "Chronic Spasticity                                                     22   \n",
       "Tinea Versicol                                                         22   \n",
       "Swine Flu                                                              21   \n",
       "Hypoestrogenism                                                        21   \n",
       "Insulin Resistance Syndrome                                            21   \n",
       "Atrial Flutte                                                          21   \n",
       "Melanoma, Metastatic                                                   21   \n",
       "13</span> users found this comment helpful.                            21   \n",
       "Tinea Pedis                                                            21   \n",
       "Hyperphosphatemia of Renal Failure                                     21   \n",
       "Lennox-Gastaut Syndrome                                                20   \n",
       "Non-Hodgkin's Lymphoma                                                 20   \n",
       "Angina Pectoris Prophylaxis                                            20   \n",
       "Prevention of Osteoporosis                                             20   \n",
       "Meniere's Disease                                                      20   \n",
       "Vitamin D Deficiency                                                   19   \n",
       "Gas                                                                    19   \n",
       "Diabetic Kidney Disease                                                19   \n",
       "Left Ventricular Dysfunction                                           19   \n",
       "Xerostomia                                                             19   \n",
       "Burning Mouth Syndrome                                                 19   \n",
       "Methicillin-Resistant Staphylococcus Aureus Infection                  19   \n",
       "Breast Cancer, Adjuvant                                                19   \n",
       "Malaria                                                                19   \n",
       "Diaper Rash                                                            18   \n",
       "Pseudobulbar Affect                                                    18   \n",
       "Lactose Intolerance                                                    18   \n",
       "Progesterone Insufficiency                                             18   \n",
       "Nightmares                                                             18   \n",
       "Anemia                                                                 18   \n",
       "Nausea/Vomiting, Postoperative                                         18   \n",
       "Uveitis                                                                18   \n",
       "12</span> users found this comment helpful.                            18   \n",
       "Ovarian Cance                                                          17   \n",
       "Onychomycosis, Fingernail                                              17   \n",
       "Hereditary Angioedema                                                  17   \n",
       "Myelodysplastic Syndrome                                               17   \n",
       "Benzodiazepine Withdrawal                                              17   \n",
       "Multiple Myeloma                                                       17   \n",
       "15</span> users found this comment helpful.                            17   \n",
       "Macular Degeneration                                                   17   \n",
       "Juvenile Idiopathic Arthritis                                          17   \n",
       "Ovulation Induction                                                    16   \n",
       "Soft Tissue Sarcoma                                                    16   \n",
       "Undifferentiated Connective Tissue Disease                             16   \n",
       "Chronic Pancreatitis                                                   16   \n",
       "Seasonal Affective Disorde                                             16   \n",
       "Primary Ovarian Failure                                                15   \n",
       "Giardiasis                                                             15   \n",
       "Pancreatic Cance                                                       15   \n",
       "Diagnosis and Investigation                                            15   \n",
       "Lyme Disease, Neurologic                                               15   \n",
       "High Cholesterol, Familial Homozygous                                  14   \n",
       "Diabetes Insipidus                                                     14   \n",
       "Tinea Cruris                                                           14   \n",
       "Expectoration                                                          14   \n",
       "Hyperlipoproteinemia                                                   14   \n",
       "Streptococcal Infection                                                14   \n",
       "17</span> users found this comment helpful.                            14   \n",
       "Behcet's Disease                                                       14   \n",
       "16</span> users found this comment helpful.                            14   \n",
       "Trichotillomania                                                       14   \n",
       "14</span> users found this comment helpful.                            14   \n",
       "zen Shoulde                                                            14   \n",
       "Deep Vein Thrombosis, Prophylaxis                                      14   \n",
       "Computed Tomography                                                    13   \n",
       "New Daily Persistent Headache                                          13   \n",
       "Hypertensive Emergency                                                 13   \n",
       "Pain/Feve                                                              13   \n",
       "Ischemic Stroke                                                        13   \n",
       "Dyspareunia                                                            13   \n",
       "20</span> users found this comment helpful.                            13   \n",
       "Hepatitis B                                                            13   \n",
       "Lichen Sclerosus                                                       13   \n",
       "Bronchiectasis                                                         13   \n",
       "Surgical Prophylaxis                                                   13   \n",
       "Premenstrual Syndrome                                                  12   \n",
       "Cutaneous Candidiasis                                                  12   \n",
       "Anal Fissure and Fistula                                               12   \n",
       "eve                                                                    12   \n",
       "Intermittent Claudication                                              12   \n",
       "Hyperlipoproteinemia Type IIa, Elevated LDL                            12   \n",
       "Hyperthyroidism                                                        12   \n",
       "Secondary Hyperparathyroidism                                          12   \n",
       "Persistent Depressive Disorde                                          12   \n",
       "Intraocular Hypertension                                               12   \n",
       "Autoimmune Hepatitis                                                   12   \n",
       "Asperger Syndrome                                                      12   \n",
       "Conjunctivitis                                                         12   \n",
       "Cystic Fibrosis                                                        12   \n",
       "Skin Rash                                                              12   \n",
       "mulation) (phenylephrine)                                              12   \n",
       "Osteolytic Bone Metastases of Solid Tumors                             12   \n",
       "Post-Cholecystectomy Diarrhea                                          12   \n",
       "Nasal Polyps                                                           12   \n",
       "18</span> users found this comment helpful.                            11   \n",
       "Vitamin B12 Deficiency                                                 11   \n",
       "19</span> users found this comment helpful.                            11   \n",
       "Lichen Planus                                                          11   \n",
       "Dystonia                                                               11   \n",
       "Polycythemia Vera                                                      11   \n",
       "Opiate Adjunct                                                         11   \n",
       "Prevention of Cardiovascular Disease                                   11   \n",
       "Traveler's Diarrhea                                                    11   \n",
       "Diarrhea, Acute                                                        11   \n",
       "Scabies                                                                11   \n",
       "Addison's Disease                                                      11   \n",
       "Bursitis                                                               11   \n",
       "Impetig                                                                10   \n",
       "Ulcerative Proctitis                                                   10   \n",
       "Thyroid Cance                                                          10   \n",
       "Tuberculosis, Latent                                                   10   \n",
       "Herpes Simplex, Mucocutaneous/Immunocompetent Host                     10   \n",
       "Prevention of Hypokalemia                                              10   \n",
       "min / saxagliptin)                                                     10   \n",
       "Chronic Myofascial Pain                                                10   \n",
       "11</span> users found this comment helpful.                            10   \n",
       "Adult Human Growth Hormone Deficiency                                  10   \n",
       "Opioid Overdose                                                        10   \n",
       "Pulmonary Embolism, Recurrent Event                                    9    \n",
       "Deep Vein Thrombosis, First Event                                      9    \n",
       "Sore Throat                                                            9    \n",
       "Deep Vein Thrombosis, Recurrent Event                                  9    \n",
       "Dermatomyositis                                                        9    \n",
       "Prevention of Dental Caries                                            9    \n",
       "Intraabdominal Infection                                               9    \n",
       "21</span> users found this comment helpful.                            9    \n",
       "Body Dysmorphic Disorde                                                9    \n",
       "Costochondritis                                                        9    \n",
       "Hypoparathyroidism                                                     9    \n",
       "23</span> users found this comment helpful.                            9    \n",
       "Pelvic Inflammatory Disease                                            9    \n",
       "Local Anesthesia                                                       9    \n",
       "Perioral Dermatitis                                                    9    \n",
       "Spondylolisthesis                                                      9    \n",
       "Menopausal Disorders                                                   9    \n",
       "TSH Suppression                                                        9    \n",
       "Lactation Augmentation                                                 9    \n",
       "Pancreatic Exocrine Dysfunction                                        8    \n",
       "Agitation                                                              8    \n",
       "B12 Nutritional Deficiency                                             8    \n",
       "Labor Induction                                                        8    \n",
       "Bacterial Endocarditis Prevention                                      8    \n",
       "Adrenocortical Insufficiency                                           8    \n",
       "Status Epilepticus                                                     8    \n",
       "Lyme Disease, Arthritis                                                8    \n",
       "Lymphoma                                                               8    \n",
       "Pediatric Growth Hormone Deficiency                                    8    \n",
       "Hepatic Encephalopathy                                                 8    \n",
       "Dermatologic Lesion                                                    8    \n",
       "Candidemia                                                             8    \n",
       "Gastrointestinal Stromal Tum                                           8    \n",
       "Nasal Carriage of Staphylococcus aureus                                8    \n",
       "Brain Tum                                                              8    \n",
       "Atherosclerosis                                                        8    \n",
       "Dandruff                                                               8    \n",
       "Bronchospasm Prophylaxis                                               8    \n",
       "lic Acid Deficiency                                                    8    \n",
       "Lipodystrophy                                                          7    \n",
       "Immunosuppression                                                      7    \n",
       "Diabetic Macular Edema                                                 7    \n",
       "Head and Neck Cance                                                    7    \n",
       "Bleeding Disorde                                                       7    \n",
       "NSAID-Induced Gastric Ulce                                             7    \n",
       "Hypoactive Sexual Desire Disorde                                       7    \n",
       "Idiopathic Thrombocytopenic Purpura                                    7    \n",
       "von Willebrand's Disease                                               7    \n",
       "Ophthalmic Surgery                                                     7    \n",
       "Tinea Capitis                                                          7    \n",
       "Pinworm Infection (Enterobius vermicularis)                            7    \n",
       "Endometrial Cance                                                      7    \n",
       "Performance Anxiety                                                    7    \n",
       "Abortion                                                               7    \n",
       "Wegener's Granulomatosis                                               7    \n",
       "Macular Edema                                                          7    \n",
       "Mountain Sickness / Altitude Sickness                                  7    \n",
       "25</span> users found this comment helpful.                            7    \n",
       "Premature Ventricular Depolarizations                                  6    \n",
       "Still's Disease                                                        6    \n",
       "Glioblastoma Multi                                                     6    \n",
       "Dietary Fiber Supplementation                                          6    \n",
       "amilial Mediterranean Feve                                             6    \n",
       "Dermatophytosis                                                        6    \n",
       "Hepatocellular Carcinoma                                               6    \n",
       "Herpes Zoster, Prophylaxis                                             6    \n",
       "Iritis                                                                 6    \n",
       "Systemic Mastocytosis                                                  6    \n",
       "Endometrial Hyperplasia                                                6    \n",
       "Cataplexy                                                              6    \n",
       "Carcinoid Tum                                                          6    \n",
       "Nephrotic Syndrome                                                     6    \n",
       "Gingivitis                                                             6    \n",
       "Dumping Syndrome                                                       6    \n",
       "Candida Urinary Tract Infection                                        6    \n",
       "Herpes Simplex, Mucocutaneous/Immunocompromised Host                   6    \n",
       "NSAID-Induced Ulcer Prophylaxis                                        6    \n",
       "Mucositis                                                              6    \n",
       "Anemia Associated with Chronic Renal Failure                           6    \n",
       "Thrombocythemia                                                        6    \n",
       "Biliary Cirrhosis                                                      6    \n",
       "AIDS Related Wasting                                                   5    \n",
       "Primary Hyperaldosteronism                                             5    \n",
       "Prevention of Atherothrombotic Events                                  5    \n",
       "36</span> users found this comment helpful.                            5    \n",
       "min / pioglitazone)                                                    5    \n",
       "Gout, Prophylaxis                                                      5    \n",
       "Head Injury                                                            5    \n",
       "Hypercalcemia of Malignancy                                            5    \n",
       "Pe                                                                     5    \n",
       "Turner's Syndrome                                                      5    \n",
       "Periodontitis                                                          5    \n",
       "Auditory Processing Disorde                                            5    \n",
       "Primary Nocturnal Enuresis                                             5    \n",
       "29</span> users found this comment helpful.                            5    \n",
       "Anaplastic Oligodendroglioma                                           5    \n",
       "CMV Prophylaxis                                                        5    \n",
       "Varicella-Zoste                                                        5    \n",
       "SIADH                                                                  5    \n",
       "Mild Cognitive Impairment                                              5    \n",
       "Peripheral Arterial Disease                                            5    \n",
       "Melanoma                                                               5    \n",
       "Glaucoma/Intraocular Hypertension                                      5    \n",
       "Cyclothymic Disorde                                                    5    \n",
       "Ventricular Fibrillation                                               5    \n",
       "Pre-Exposure Prophylaxis                                               5    \n",
       "Pulmonary Embolism, First Event                                        5    \n",
       "33</span> users found this comment helpful.                            5    \n",
       "Gonococcal Infection, Uncomplicated                                    5    \n",
       "Glioblastoma Multiforme                                                5    \n",
       "Pupillary Dilation                                                     5    \n",
       "Cance                                                                  5    \n",
       "Endometrial Hyperplasia, Prophylaxis                                   5    \n",
       "Sarcoidosis                                                            5    \n",
       "Herpes Simplex Dendritic Keratitis                                     5    \n",
       "Reiter's Syndrome                                                      5    \n",
       "Cardiovascular Risk Reduction                                          5    \n",
       "Spondyloarthritis                                                      5    \n",
       "Transient Ischemic Attack                                              5    \n",
       "27</span> users found this comment helpful.                            5    \n",
       "Leukemia                                                               5    \n",
       "mis                                                                    5    \n",
       "Peptic Ulce                                                            5    \n",
       "Hypokalemia                                                            5    \n",
       "Ear Wax Impaction                                                      5    \n",
       "41</span> users found this comment helpful.                            5    \n",
       "Dementia                                                               4    \n",
       "Hypoglycemia                                                           4    \n",
       "Topical Disinfection                                                   4    \n",
       "43</span> users found this comment helpful.                            4    \n",
       "Peripheral T-cell Lymphoma                                             4    \n",
       "Paroxysmal Supraventricular Tachycardia                                4    \n",
       "Breast Cancer, Prevention                                              4    \n",
       "Acute Lymphoblastic Leukemia                                           4    \n",
       "Nephrocalcinosis                                                       4    \n",
       "44</span> users found this comment helpful.                            4    \n",
       "Anemia, Sickle Cell                                                    4    \n",
       "Granuloma Annulare                                                     4    \n",
       "Bullous Pemphigoid                                                     4    \n",
       "Nausea/Vomiting, Radiation Induced                                     4    \n",
       "Nonoccupational Exposure                                               4    \n",
       "Mycobacterium avium-intracellulare, Treatment                          4    \n",
       "ge HCT (amlodipine / hydrochlorothiazide / valsartan)                  4    \n",
       "24</span> users found this comment helpful.                            4    \n",
       "Prosthetic Heart Valves, Mechanical Valves - Thrombosis Prophylaxis    4    \n",
       "Infection Prophylaxis                                                  4    \n",
       "Pudendal Neuralgia                                                     4    \n",
       "Osteolytic Bone Lesions of Multiple Myeloma                            4    \n",
       "Anesthetic Adjunct                                                     4    \n",
       "Gastric Ulcer Maintenance Treatment                                    4    \n",
       "cal Segmental Glomerulosclerosis                                       4    \n",
       "Deep Neck Infection                                                    4    \n",
       "Reversal of Opioid Sedation                                            4    \n",
       "ICU Agitation                                                          4    \n",
       "Ascariasis                                                             4    \n",
       "Oral and Dental Conditions                                             4    \n",
       "Porphyria                                                              4    \n",
       "Alpha-1 Proteinase Inhibitor Deficiency                                4    \n",
       "STD Prophylaxis                                                        4    \n",
       "Eosinophilic Esophagitis                                               4    \n",
       "Enterocolitis                                                          4    \n",
       "Noninfectious Colitis                                                  4    \n",
       "Lymphocytic Colitis                                                    4    \n",
       "Gastritis/Duodenitis                                                   4    \n",
       "CNS Magnetic Resonance Imaging                                         4    \n",
       "Hypocalcemia                                                           4    \n",
       "32</span> users found this comment helpful.                            4    \n",
       "Lewy Body Dementia                                                     3    \n",
       "Severe Mood Dysregulation                                              3    \n",
       "Acute Promyelocytic Leukemia                                           3    \n",
       "Varicose Veins                                                         3    \n",
       "Cutaneous T-cell Lymphoma                                              3    \n",
       "actor IX Deficiency                                                    3    \n",
       "Amebiasis                                                              3    \n",
       "Pseudomembranous Colitis                                               3    \n",
       "Aphthous Ulce                                                          3    \n",
       "Hyperkalemia                                                           3    \n",
       "Cerebral Spasticity                                                    3    \n",
       "28</span> users found this comment helpful.                            3    \n",
       "Gender Dysphoria                                                       3    \n",
       "Pemphigus                                                              3    \n",
       "Endoscopy or Radiology Premedication                                   3    \n",
       "Warts                                                                  3    \n",
       "Hidradenitis Suppurativa                                               3    \n",
       "Squamous Cell Carcinoma                                                3    \n",
       "Histoplasmosis                                                         3    \n",
       "Esophageal Variceal Hemorrhage Prophylaxis                             3    \n",
       "Rejection Prophylaxis                                                  3    \n",
       "Anorexia/Feeding Problems                                              3    \n",
       "Thromboembolic Stroke Prophylaxis                                      3    \n",
       "31</span> users found this comment helpful.                            3    \n",
       "Peritonitis                                                            3    \n",
       "Ocular Rosacea                                                         3    \n",
       "Antiphospholipid Syndrome                                              3    \n",
       "Chronic Inflammatory Demyelinating Polyradiculoneuropathy              3    \n",
       "Women (oxybutynin)                                                     3    \n",
       "Sunburn                                                                3    \n",
       "Stress Ulcer Prophylaxis                                               3    \n",
       "Anal Itching                                                           3    \n",
       "Meningitis                                                             3    \n",
       "Ectopic Pregnancy                                                      3    \n",
       "Dupuytren's contracture                                                3    \n",
       "Hyperekplexia                                                          3    \n",
       "Anaplastic Astrocytoma                                                 3    \n",
       "Wolff-Parkinson-White Syndrome                                         3    \n",
       "Tuberculosis, Prophylaxis                                              3    \n",
       "Oligospermia                                                           3    \n",
       "Neurosurgery                                                           3    \n",
       "amilial Cold Autoinflammatory Syndrome                                 3    \n",
       "Uterine Bleeding                                                       3    \n",
       "Dientamoeba fragilis                                                   3    \n",
       "Rhinorrhea                                                             3    \n",
       "Esophageal Candidiasis                                                 3    \n",
       "ailure to Thrive                                                       3    \n",
       "Small Bowel Bacterial Overgrowth                                       3    \n",
       "Small Fiber Neuropathy                                                 3    \n",
       "Autoimmune Hemolytic Anemia                                            3    \n",
       "Hemophilia A                                                           3    \n",
       "Aspiration Pneumonia                                                   3    \n",
       "39</span> users found this comment helpful.                            3    \n",
       "Anemia, Chemotherapy Induced                                           3    \n",
       "Thrombocytopenia                                                       2    \n",
       "99</span> users found this comment helpful.                            2    \n",
       "Gonococcal Infection, Disseminated                                     2    \n",
       "74</span> users found this comment helpful.                            2    \n",
       "t Care                                                                 2    \n",
       "Neck Pain                                                              2    \n",
       "Systemic Sclerosis                                                     2    \n",
       "Testicular Cance                                                       2    \n",
       "Nocardiosis                                                            2    \n",
       "Hyperparathyroidism Secondary to Renal Impairment                      2    \n",
       "22</span> users found this comment helpful.                            2    \n",
       "Cutaneous Larva Migrans                                                2    \n",
       "Blepharitis                                                            2    \n",
       "Leukocytoclastic Vasculitis                                            2    \n",
       "Coronary Artery Disease                                                2    \n",
       "42</span> users found this comment helpful.                            2    \n",
       "Duodenal Ulcer Prophylaxis                                             2    \n",
       "Cholera                                                                2    \n",
       "Schnitzler Syndrome                                                    2    \n",
       "55</span> users found this comment helpful.                            2    \n",
       "Hypotension                                                            2    \n",
       "Pityriasis rubra pilaris                                               2    \n",
       "Paget's Disease                                                        2    \n",
       "Gastrointestinal Decontamination                                       2    \n",
       "Pertussis                                                              2    \n",
       "Avian Influenza                                                        2    \n",
       "Mixed Connective Tissue Disease                                        2    \n",
       "Anaphylaxis                                                            2    \n",
       "Campylobacter Gastroenteritis                                          2    \n",
       "Hyperphosphatemia                                                      2    \n",
       "Hepatic Tum                                                            2    \n",
       "Aggressive Behavi                                                      2    \n",
       "Body Imaging                                                           2    \n",
       "Euvolemic Hyponatremia                                                 2    \n",
       "Breast Cancer, Palliative                                              2    \n",
       "Anthrax                                                                2    \n",
       "Skin Disinfection, Preoperative                                        2    \n",
       "Nonalcoholic Fatty Liver Disease                                       2    \n",
       "Percutaneous Coronary Intervention                                     2    \n",
       "Chronic Eosinophilic Leukemia                                          2    \n",
       "45</span> users found this comment helpful.                            2    \n",
       "Solid Tumors                                                           2    \n",
       "Malignant Glioma                                                       2    \n",
       "Muscle Twitching                                                       2    \n",
       "Myxedema Coma                                                          2    \n",
       "85</span> users found this comment helpful.                            2    \n",
       "Hypomagnesemia                                                         2    \n",
       "75</span> users found this comment helpful.                            2    \n",
       "Intermittent Explosive Disorde                                         2    \n",
       "Schistosoma japonicum                                                  2    \n",
       "Salivary Gland Cance                                                   2    \n",
       "Niacin Deficiency                                                      2    \n",
       "t Pac with Cyclobenzaprine (cyclobenzaprine)                           2    \n",
       "Abdominal Distension                                                   2    \n",
       "Deep Vein Thrombosis Prophylaxis after Hip Replacement Surgery         2    \n",
       "Vitamin K Deficiency                                                   2    \n",
       "Hyperlipoproteinemia Type IV, Elevated VLDL                            2    \n",
       "Croup                                                                  2    \n",
       "Tetanus                                                                2    \n",
       "Submental Fullness                                                     2    \n",
       "35</span> users found this comment helpful.                            2    \n",
       "Neurosis                                                               2    \n",
       "Peyronie's Disease                                                     2    \n",
       "min / rosiglitazone)                                                   2    \n",
       "Tic Disorde                                                            2    \n",
       "142</span> users found this comment helpful.                           2    \n",
       "Renal Transplant                                                       2    \n",
       "Prosthetic Heart Valves, Tissue Valves - Thrombosis Prophylaxis        2    \n",
       "Eyelash Hypotrichosis                                                  2    \n",
       "Liver Magnetic Resonance Imaging                                       2    \n",
       "Hairy Cell Leukemia                                                    2    \n",
       "46</span> users found this comment helpful.                            2    \n",
       "tic (mycophenolic acid)                                                2    \n",
       "Toothache                                                              2    \n",
       "Angioedema                                                             2    \n",
       "Typhoid Feve                                                           2    \n",
       "Tardive Dyskinesia                                                     2    \n",
       "Deep Vein Thrombosis Prophylaxis after Knee Replacement Surgery        2    \n",
       "Mononucleosis                                                          2    \n",
       "Ichthyosis                                                             2    \n",
       "Gaucher Disease                                                        2    \n",
       "Delayed Puberty, Male                                                  2    \n",
       "Sleep Paralysis                                                        2    \n",
       "Platelet Aggregation Inhibition                                        2    \n",
       "Babesiosis                                                             2    \n",
       "Pathological Hypersecretory Conditions                                 2    \n",
       "Urinary Retention                                                      2    \n",
       "Meningococcal Meningitis Prophylaxis                                   1    \n",
       "mist (                                                                 1    \n",
       "Cluster-Tic Syndrome                                                   1    \n",
       "Syringomyelia                                                          1    \n",
       "Gestational Diabetes                                                   1    \n",
       "Aspergillosis, Aspergilloma                                            1    \n",
       "Pseudogout, Prophylaxis                                                1    \n",
       "Portal Hypertension                                                    1    \n",
       "Reversal of Nondepolarizing Muscle Relaxants                           1    \n",
       "47</span> users found this comment helpful.                            1    \n",
       "Short Stature for Age                                                  1    \n",
       "Neurotic Depression                                                    1    \n",
       "Cerebral Edema                                                         1    \n",
       "me                                                                     1    \n",
       "Hyperuricemia Secondary to Chemotherapy                                1    \n",
       "Prevention of Perinatal Group B Streptococcal Disease                  1    \n",
       "Small Bowel or Pancreatic Fistula                                      1    \n",
       "Pemphigoid                                                             1    \n",
       "Keratitis                                                              1    \n",
       "123</span> users found this comment helpful.                           1    \n",
       "Microscopic polyangiitis                                               1    \n",
       "Secondary Cutaneous Bacterial Infections                               1    \n",
       "Hodgkin's Lymphoma                                                     1    \n",
       "26</span> users found this comment helpful.                            1    \n",
       "Hemophilia B                                                           1    \n",
       "m Pain Disorde                                                         1    \n",
       "77</span> users found this comment helpful.                            1    \n",
       "Systemic Candidiasis                                                   1    \n",
       "Myeloproliferative Disorders                                           1    \n",
       "61</span> users found this comment helpful.                            1    \n",
       "Diagnostic Bronchograms                                                1    \n",
       "Neoplastic Diseases                                                    1    \n",
       "51</span> users found this comment helpful.                            1    \n",
       "Mycoplasma Pneumonia                                                   1    \n",
       "Linear IgA Disease                                                     1    \n",
       "Subarachnoid Hemorrhage                                                1    \n",
       "ungal Pneumonia                                                        1    \n",
       "Upper Limb Spasticity                                                  1    \n",
       "145</span> users found this comment helpful.                           1    \n",
       "Scleroderma                                                            1    \n",
       "Zollinger-Ellison Syndrome                                             1    \n",
       "Tinea Barbae                                                           1    \n",
       "Acute Nonlymphocytic Leukemia                                          1    \n",
       "62</span> users found this comment helpful.                            1    \n",
       "92</span> users found this comment helpful.                            1    \n",
       "95</span> users found this comment helpful.                            1    \n",
       "Cyclitis                                                               1    \n",
       "76</span> users found this comment helpful.                            1    \n",
       "Strabismus                                                             1    \n",
       "Ramsay Hunt Syndrome                                                   1    \n",
       "Occipital Neuralgia                                                    1    \n",
       "Klinefelter Syndrome                                                   1    \n",
       "Patent Ductus Arteriosus                                               1    \n",
       "Joint Infection                                                        1    \n",
       "Stomach Cance                                                          1    \n",
       "Manscaping Pain                                                        1    \n",
       "Organ Transplant, Rejection Reversal                                   1    \n",
       "Coccidioidomycosis                                                     1    \n",
       "Strongyloidiasis                                                       1    \n",
       "Gastric Cance                                                          1    \n",
       "ibrocystic Breast Disease                                              1    \n",
       "121</span> users found this comment helpful.                           1    \n",
       "ungal Infection Prophylaxis                                            1    \n",
       "Short Stature                                                          1    \n",
       "Hypercalcemia                                                          1    \n",
       "Sporotrichosis                                                         1    \n",
       "146</span> users found this comment helpful.                           1    \n",
       "64</span> users found this comment helpful.                            1    \n",
       "34</span> users found this comment helpful.                            1    \n",
       "Ehrlichiosis                                                           1    \n",
       "Hypopituitarism                                                        1    \n",
       "Infectious Diarrhea                                                    1    \n",
       "Hemangioma                                                             1    \n",
       "Postpartum Breast Pain                                                 1    \n",
       "Multiple Endocrine Adenomas                                            1    \n",
       "Postoperative Increased Intraocular Pressure                           1    \n",
       "Pruritus of Partial Biliary Obstruction                                1    \n",
       "Primary Hyperaldosteronism Diagnosis                                   1    \n",
       "94</span> users found this comment helpful.                            1    \n",
       "Radionuclide Myocardial Perfusion Study                                1    \n",
       "54</span> users found this comment helpful.                            1    \n",
       "Meningitis, Meningococcal                                              1    \n",
       "Parkinsonian Trem                                                      1    \n",
       "Rabies Prophylaxis                                                     1    \n",
       "Sepsis                                                                 1    \n",
       "Women (minoxidil)                                                      1    \n",
       "Myelofibrosis                                                          1    \n",
       "Wilson's Disease                                                       1    \n",
       "Transverse Myelitis                                                    1    \n",
       "Parkinsonism                                                           1    \n",
       "48</span> users found this comment helpful.                            1    \n",
       "Thyrotoxicosis                                                         1    \n",
       "Dermatitis Herpetiformis                                               1    \n",
       "30</span> users found this comment helpful.                            1    \n",
       "Epididymitis, Sexually Transmitted                                     1    \n",
       "Cachexia                                                               1    \n",
       "63</span> users found this comment helpful.                            1    \n",
       "Hypokalemic Periodic Paralysis                                         1    \n",
       "Bartonellosis                                                          1    \n",
       "Thyroid Suppression Test                                               1    \n",
       "Asystole                                                               1    \n",
       "Ventricular Arrhythmia                                                 1    \n",
       "AV Heart Block                                                         1    \n",
       "llicular Lymphoma                                                      1    \n",
       "98</span> users found this comment helpful.                            1    \n",
       "Cogan's Syndrome                                                       1    \n",
       "Epicondylitis, Tennis Elbow                                            1    \n",
       "Dercum's Disease                                                       1    \n",
       "Corneal Ulce                                                           1    \n",
       "acial Lipoatrophy                                                      1    \n",
       "Hypodermoclysis                                                        1    \n",
       "Hepatitis B Prevention                                                 1    \n",
       "Tuberculosis, Active                                                   1    \n",
       "Cerebrovascular Insufficiency                                          1    \n",
       "Dermatitis Herpeti                                                     1    \n",
       "Anti NMDA Receptor Encephalitis                                        1    \n",
       "72</span> users found this comment helpful.                            1    \n",
       "Gonadotropin Inhibition                                                1    \n",
       "unctional Gastric Disorde                                              1    \n",
       "Acetaminophen Overdose                                                 1    \n",
       "Paragonimus westermani, Lung Fluke                                     1    \n",
       "Neuritis                                                               1    \n",
       "Hyperbilirubinemia                                                     1    \n",
       "Mumps Prophylaxis                                                      1    \n",
       "110</span> users found this comment helpful.                           1    \n",
       "40</span> users found this comment helpful.                            1    \n",
       "Amyotrophic Lateral Sclerosis                                          1    \n",
       "Somatoform Pain Disorde                                                1    \n",
       "Esophageal Spasm                                                       1    \n",
       "Giant Cell Tumor of Bone                                               1    \n",
       "Wound Cleansing                                                        1    \n",
       "79</span> users found this comment helpful.                            1    \n",
       "Gallbladder Disease                                                    1    \n",
       "84</span> users found this comment helpful.                            1    \n",
       "Schilling Test                                                         1    \n",
       "Oppositional Defiant Disorde                                           1    \n",
       "Legionella Pneumonia                                                   1    \n",
       "Dissociative Identity Disorde                                          1    \n",
       "Hydrocephalus                                                          1    \n",
       "Hyperlipoproteinemia Type III, Elevated beta-VLDL   IDL                1    \n",
       "Q Feve                                                                 1    \n",
       "Neutropenia                                                            1    \n",
       "Name: count, dtype: int64"
      ]
     },
     "execution_count": 5,
     "metadata": {},
     "output_type": "execute_result"
    }
   ],
   "source": [
    "df.condition.value_counts()"
   ]
  },
  {
   "cell_type": "code",
   "execution_count": 6,
   "metadata": {},
   "outputs": [
    {
     "name": "stdout",
     "output_type": "stream",
     "text": [
      "Number of Unique Drugs present in the Dataset :  3436\n",
      "Number of Unique Medical Conditions present in the Dataset :  884\n"
     ]
    }
   ],
   "source": [
    "# exploring unique elements in the dataset\n",
    "print(\"Number of Unique Drugs present in the Dataset : \", df['drugName'].nunique())\n",
    "print(\"Number of Unique Medical Conditions present in the Dataset : \", df['condition'].nunique())"
   ]
  },
  {
   "cell_type": "code",
   "execution_count": 7,
   "metadata": {},
   "outputs": [
    {
     "data": {
      "text/plain": [
       "uniqueID       0  \n",
       "drugName       0  \n",
       "condition      899\n",
       "review         0  \n",
       "rating         0  \n",
       "date           0  \n",
       "usefulCount    0  \n",
       "dtype: int64"
      ]
     },
     "execution_count": 7,
     "metadata": {},
     "output_type": "execute_result"
    }
   ],
   "source": [
    "# checking for missing values\n",
    "df.isna().sum()"
   ]
  },
  {
   "cell_type": "code",
   "execution_count": 8,
   "metadata": {},
   "outputs": [
    {
     "data": {
      "text/plain": [
       "uniqueID       0\n",
       "drugName       0\n",
       "condition      0\n",
       "review         0\n",
       "rating         0\n",
       "date           0\n",
       "usefulCount    0\n",
       "dtype: int64"
      ]
     },
     "execution_count": 8,
     "metadata": {},
     "output_type": "execute_result"
    }
   ],
   "source": [
    "# dropping the missing values of the conditions\n",
    "df = df.dropna()\n",
    "df.isna().sum()"
   ]
  },
  {
   "cell_type": "code",
   "execution_count": 9,
   "metadata": {},
   "outputs": [
    {
     "data": {
      "image/png": "[encoded data removed]",
      "text/plain": [
       "<Figure size 1000x400 with 2 Axes>"
      ]
     },
     "metadata": {},
     "output_type": "display_data"
    }
   ],
   "source": [
    "import warnings\n",
    "warnings.filterwarnings(\"ignore\")\n",
    "\n",
    "plt.rcParams['figure.figsize'] = (10, 4)\n",
    "\n",
    "plt.subplot(1, 2, 1)\n",
    "sns.distplot(df['rating'])\n",
    "\n",
    "plt.subplot(1, 2, 2)\n",
    "sns.distplot(df['usefulCount'])\n",
    "\n",
    "plt.suptitle('Distribution of Rating and Useful Count \\n ', fontsize = 20)\n",
    "plt.show()"
   ]
  },
  {
   "cell_type": "code",
   "execution_count": 10,
   "metadata": {},
   "outputs": [
    {
     "data": {
      "image/png": "[encoded data removed]",
      "text/plain": [
       "<Figure size 1000x400 with 1 Axes>"
      ]
     },
     "metadata": {},
     "output_type": "display_data"
    }
   ],
   "source": [
    "plt.rcParams['figure.figsize'] = (10, 4)\n",
    "sns.barplot(x = df['rating'], y = df['usefulCount'], palette = 'hot')\n",
    "plt.xlabel('\\n Ratings')\n",
    "plt.ylabel('Count\\n', fontsize = 20)\n",
    "plt.title('\\n Rating vs Usefulness \\n', fontsize = 20)\n",
    "plt.show()"
   ]
  },
  {
   "cell_type": "markdown",
   "metadata": {},
   "source": [
    "## Data Preprocessing"
   ]
  },
  {
   "cell_type": "code",
   "execution_count": 11,
   "metadata": {},
   "outputs": [],
   "source": [
    "df_train = df[(df['condition']=='Birth Control') | (df['condition']=='Depression') | (df['condition']=='High Blood Pressure')|(df['condition']=='Diabetes, Type 2') | (df['condition']=='Insomnia') | (df['condition']=='GERD') | (df['condition']=='Cough') | (df['condition']=='Acne') | (df['condition']=='Anxiety') | (df['condition']=='Constipation') | (df['condition']=='Migraine')]"
   ]
  },
  {
   "cell_type": "code",
   "execution_count": 12,
   "metadata": {},
   "outputs": [
    {
     "data": {
      "text/plain": [
       "(62835, 7)"
      ]
     },
     "execution_count": 12,
     "metadata": {},
     "output_type": "execute_result"
    }
   ],
   "source": [
    "df_train.shape"
   ]
  },
  {
   "cell_type": "code",
   "execution_count": 13,
   "metadata": {},
   "outputs": [],
   "source": [
    "X = df_train.drop(['uniqueID','drugName','rating','date','usefulCount'],axis=1)"
   ]
  },
  {
   "cell_type": "code",
   "execution_count": 14,
   "metadata": {},
   "outputs": [
    {
     "data": {
      "text/plain": [
       "(62835, 2)"
      ]
     },
     "execution_count": 14,
     "metadata": {},
     "output_type": "execute_result"
    }
   ],
   "source": [
    "X.shape"
   ]
  },
  {
   "cell_type": "code",
   "execution_count": 15,
   "metadata": {},
   "outputs": [
    {
     "data": {
      "text/plain": [
       "condition\n",
       "Birth Control          28788\n",
       "Depression             9069 \n",
       "Anxiety                5904 \n",
       "Acne                   5588 \n",
       "Insomnia               3673 \n",
       "Diabetes, Type 2       2554 \n",
       "High Blood Pressure    2321 \n",
       "Migraine               1694 \n",
       "Constipation           1595 \n",
       "Cough                  927  \n",
       "GERD                   722  \n",
       "Name: count, dtype: int64"
      ]
     },
     "execution_count": 15,
     "metadata": {},
     "output_type": "execute_result"
    }
   ],
   "source": [
    "X.condition.value_counts()"
   ]
  },
  {
   "cell_type": "code",
   "execution_count": 16,
   "metadata": {},
   "outputs": [
    {
     "data": {
      "text/plain": [
       "condition    0\n",
       "review       0\n",
       "dtype: int64"
      ]
     },
     "execution_count": 16,
     "metadata": {},
     "output_type": "execute_result"
    }
   ],
   "source": [
    "X.isna().sum()"
   ]
  },
  {
   "cell_type": "code",
   "execution_count": 17,
   "metadata": {},
   "outputs": [
    {
     "data": {
      "text/html": [
       "<div>\n",
       "<style scoped>\n",
       "    .dataframe tbody tr th:only-of-type {\n",
       "        vertical-align: middle;\n",
       "    }\n",
       "\n",
       "    .dataframe tbody tr th {\n",
       "        vertical-align: top;\n",
       "    }\n",
       "\n",
       "    .dataframe thead th {\n",
       "        text-align: right;\n",
       "    }\n",
       "</style>\n",
       "<table border=\"1\" class=\"dataframe\">\n",
       "  <thead>\n",
       "    <tr style=\"text-align: right;\">\n",
       "      <th></th>\n",
       "      <th>condition</th>\n",
       "      <th>review</th>\n",
       "    </tr>\n",
       "  </thead>\n",
       "  <tbody>\n",
       "    <tr>\n",
       "      <th>2</th>\n",
       "      <td>Birth Control</td>\n",
       "      <td>\"I used to take another oral contraceptive, which had 21 pill cycle, and was very happy- very light periods, max 5 days, no other side effects. But it contained hormone gestodene, which is not available in US, so I switched to Lybrel, because the ingredients are similar. When my other pills ended, I started Lybrel immediately, on my first day of period, as the instructions said. And the period lasted for two weeks. When taking the second pack- same two weeks. And now, with third pack things got even worse- my third period lasted for two weeks and now it&amp;#039;s the end of the third week- I still have daily brown discharge.\\nThe positive side is that I didn&amp;#039;t have any other side effects. The idea of being period free was so tempting... Alas.\"</td>\n",
       "    </tr>\n",
       "    <tr>\n",
       "      <th>3</th>\n",
       "      <td>Birth Control</td>\n",
       "      <td>\"This is my first time using any form of birth control. I&amp;#039;m glad I went with the patch, I have been on it for 8 months. At first It decreased my libido but that subsided. The only downside is that it made my periods longer (5-6 days to be exact) I used to only have periods for 3-4 days max also made my cramps intense for the first two days of my period, I never had cramps before using birth control. Other than that in happy with the patch\"</td>\n",
       "    </tr>\n",
       "    <tr>\n",
       "      <th>9</th>\n",
       "      <td>Birth Control</td>\n",
       "      <td>\"I had been on the pill for many years. When my doctor changed my RX to chateal, it was as effective. It really did help me by completely clearing my acne, this takes about 6 months though. I did not gain extra weight, or develop any emotional health issues. I stopped taking it bc I started using a more natural method of birth control, but started to take it bc I hate that my acne came back at age 28. I really hope symptoms like depression, or weight gain do not begin to affect me as I am older now. I&amp;#039;m also naturally moody, so this may worsen things. I was in a negative mental rut today. Also I hope this doesn&amp;#039;t push me over the edge, as I believe I am depressed. Hopefully it&amp;#039;ll be just like when I was younger.\"</td>\n",
       "    </tr>\n",
       "    <tr>\n",
       "      <th>11</th>\n",
       "      <td>Depression</td>\n",
       "      <td>\"I have taken anti-depressants for years, with some improvement but mostly moderate to severe side affects, which makes me go off them.\\n\\nI only take Cymbalta now mostly for pain.\\n\\nWhen I began Deplin, I noticed a major improvement overnight. More energy, better disposition, and no sinking to the low lows of major depression. I have been taking it for about 3 months now and feel like a normal person for the first time ever. Best thing, no side effects.\"</td>\n",
       "    </tr>\n",
       "    <tr>\n",
       "      <th>13</th>\n",
       "      <td>Cough</td>\n",
       "      <td>\"Have a little bit of a lingering cough from a cold. Not giving me much trouble except keeps me up at night. I heard this was good so I took so I could get some sleep. Helped tremendously with the cough but then I was having bad stomach cramps and diarrhea. I hadn&amp;#039;t eaten anything that should have upset my stomach and it didn&amp;#039;t really feel like a &amp;quot;bug&amp;quot; so I looked up side effects for Delsym.  Now I wish I had done that first because I probably wouldn&amp;#039;t have taken it. So, while it worked for my cough I still didn&amp;#039;t get any sleep due to the stomach issues.\"</td>\n",
       "    </tr>\n",
       "  </tbody>\n",
       "</table>\n",
       "</div>"
      ],
      "text/plain": [
       "        condition  \\\n",
       "2   Birth Control   \n",
       "3   Birth Control   \n",
       "9   Birth Control   \n",
       "11  Depression      \n",
       "13  Cough           \n",
       "\n",
       "                                                                                                                                                                                                                                                                                                                                                                                                                                                                                                                                                                                                                                                                                                                                                                                 review  \n",
       "2   \"I used to take another oral contraceptive, which had 21 pill cycle, and was very happy- very light periods, max 5 days, no other side effects. But it contained hormone gestodene, which is not available in US, so I switched to Lybrel, because the ingredients are similar. When my other pills ended, I started Lybrel immediately, on my first day of period, as the instructions said. And the period lasted for two weeks. When taking the second pack- same two weeks. And now, with third pack things got even worse- my third period lasted for two weeks and now it&#039;s the end of the third week- I still have daily brown discharge.\\nThe positive side is that I didn&#039;t have any other side effects. The idea of being period free was so tempting... Alas.\"  \n",
       "3   \"This is my first time using any form of birth control. I&#039;m glad I went with the patch, I have been on it for 8 months. At first It decreased my libido but that subsided. The only downside is that it made my periods longer (5-6 days to be exact) I used to only have periods for 3-4 days max also made my cramps intense for the first two days of my period, I never had cramps before using birth control. Other than that in happy with the patch\"                                                                                                                                                                                                                                                                                                                     \n",
       "9   \"I had been on the pill for many years. When my doctor changed my RX to chateal, it was as effective. It really did help me by completely clearing my acne, this takes about 6 months though. I did not gain extra weight, or develop any emotional health issues. I stopped taking it bc I started using a more natural method of birth control, but started to take it bc I hate that my acne came back at age 28. I really hope symptoms like depression, or weight gain do not begin to affect me as I am older now. I&#039;m also naturally moody, so this may worsen things. I was in a negative mental rut today. Also I hope this doesn&#039;t push me over the edge, as I believe I am depressed. Hopefully it&#039;ll be just like when I was younger.\"                    \n",
       "11  \"I have taken anti-depressants for years, with some improvement but mostly moderate to severe side affects, which makes me go off them.\\n\\nI only take Cymbalta now mostly for pain.\\n\\nWhen I began Deplin, I noticed a major improvement overnight. More energy, better disposition, and no sinking to the low lows of major depression. I have been taking it for about 3 months now and feel like a normal person for the first time ever. Best thing, no side effects.\"                                                                                                                                                                                                                                                                                                         \n",
       "13  \"Have a little bit of a lingering cough from a cold. Not giving me much trouble except keeps me up at night. I heard this was good so I took so I could get some sleep. Helped tremendously with the cough but then I was having bad stomach cramps and diarrhea. I hadn&#039;t eaten anything that should have upset my stomach and it didn&#039;t really feel like a &quot;bug&quot; so I looked up side effects for Delsym.  Now I wish I had done that first because I probably wouldn&#039;t have taken it. So, while it worked for my cough I still didn&#039;t get any sleep due to the stomach issues.\"                                                                                                                                                                      "
      ]
     },
     "execution_count": 17,
     "metadata": {},
     "output_type": "execute_result"
    }
   ],
   "source": [
    "X.head()"
   ]
  },
  {
   "cell_type": "code",
   "execution_count": 18,
   "metadata": {},
   "outputs": [
    {
     "data": {
      "text/plain": [
       "'\"I used to take another oral contraceptive, which had 21 pill cycle, and was very happy- very light periods, max 5 days, no other side effects. But it contained hormone gestodene, which is not available in US, so I switched to Lybrel, because the ingredients are similar. When my other pills ended, I started Lybrel immediately, on my first day of period, as the instructions said. And the period lasted for two weeks. When taking the second pack- same two weeks. And now, with third pack things got even worse- my third period lasted for two weeks and now it&#039;s the end of the third week- I still have daily brown discharge.\\nThe positive side is that I didn&#039;t have any other side effects. The idea of being period free was so tempting... Alas.\"'"
      ]
     },
     "execution_count": 18,
     "metadata": {},
     "output_type": "execute_result"
    }
   ],
   "source": [
    "X['review'][2]"
   ]
  },
  {
   "cell_type": "code",
   "execution_count": 19,
   "metadata": {},
   "outputs": [
    {
     "data": {
      "text/plain": [
       "'\"I have taken anti-depressants for years, with some improvement but mostly moderate to severe side affects, which makes me go off them.\\n\\nI only take Cymbalta now mostly for pain.\\n\\nWhen I began Deplin, I noticed a major improvement overnight. More energy, better disposition, and no sinking to the low lows of major depression. I have been taking it for about 3 months now and feel like a normal person for the first time ever. Best thing, no side effects.\"'"
      ]
     },
     "execution_count": 19,
     "metadata": {},
     "output_type": "execute_result"
    }
   ],
   "source": [
    "X['review'][11]"
   ]
  },
  {
   "cell_type": "code",
   "execution_count": 20,
   "metadata": {},
   "outputs": [],
   "source": [
    "for i, col in enumerate(X.columns):\n",
    "    X.iloc[:, i] = X.iloc[:, i].str.replace('\"', '')"
   ]
  },
  {
   "cell_type": "code",
   "execution_count": 21,
   "metadata": {},
   "outputs": [
    {
     "data": {
      "text/plain": [
       "'I have taken anti-depressants for years, with some improvement but mostly moderate to severe side affects, which makes me go off them.\\n\\nI only take Cymbalta now mostly for pain.\\n\\nWhen I began Deplin, I noticed a major improvement overnight. More energy, better disposition, and no sinking to the low lows of major depression. I have been taking it for about 3 months now and feel like a normal person for the first time ever. Best thing, no side effects.'"
      ]
     },
     "execution_count": 21,
     "metadata": {},
     "output_type": "execute_result"
    }
   ],
   "source": [
    "X['review'][11]"
   ]
  },
  {
   "cell_type": "code",
   "execution_count": 22,
   "metadata": {},
   "outputs": [
    {
     "data": {
      "text/html": [
       "<div>\n",
       "<style scoped>\n",
       "    .dataframe tbody tr th:only-of-type {\n",
       "        vertical-align: middle;\n",
       "    }\n",
       "\n",
       "    .dataframe tbody tr th {\n",
       "        vertical-align: top;\n",
       "    }\n",
       "\n",
       "    .dataframe thead th {\n",
       "        text-align: right;\n",
       "    }\n",
       "</style>\n",
       "<table border=\"1\" class=\"dataframe\">\n",
       "  <thead>\n",
       "    <tr style=\"text-align: right;\">\n",
       "      <th></th>\n",
       "      <th>condition</th>\n",
       "      <th>review</th>\n",
       "    </tr>\n",
       "  </thead>\n",
       "  <tbody>\n",
       "    <tr>\n",
       "      <th>2</th>\n",
       "      <td>Birth Control</td>\n",
       "      <td>I used to take another oral contraceptive, which had 21 pill cycle, and was very happy- very light periods, max 5 days, no other side effects. But it contained hormone gestodene, which is not available in US, so I switched to Lybrel, because the ingredients are similar. When my other pills ended, I started Lybrel immediately, on my first day of period, as the instructions said. And the period lasted for two weeks. When taking the second pack- same two weeks. And now, with third pack things got even worse- my third period lasted for two weeks and now it&amp;#039;s the end of the third week- I still have daily brown discharge.\\nThe positive side is that I didn&amp;#039;t have any other side effects. The idea of being period free was so tempting... Alas.</td>\n",
       "    </tr>\n",
       "    <tr>\n",
       "      <th>3</th>\n",
       "      <td>Birth Control</td>\n",
       "      <td>This is my first time using any form of birth control. I&amp;#039;m glad I went with the patch, I have been on it for 8 months. At first It decreased my libido but that subsided. The only downside is that it made my periods longer (5-6 days to be exact) I used to only have periods for 3-4 days max also made my cramps intense for the first two days of my period, I never had cramps before using birth control. Other than that in happy with the patch</td>\n",
       "    </tr>\n",
       "    <tr>\n",
       "      <th>9</th>\n",
       "      <td>Birth Control</td>\n",
       "      <td>I had been on the pill for many years. When my doctor changed my RX to chateal, it was as effective. It really did help me by completely clearing my acne, this takes about 6 months though. I did not gain extra weight, or develop any emotional health issues. I stopped taking it bc I started using a more natural method of birth control, but started to take it bc I hate that my acne came back at age 28. I really hope symptoms like depression, or weight gain do not begin to affect me as I am older now. I&amp;#039;m also naturally moody, so this may worsen things. I was in a negative mental rut today. Also I hope this doesn&amp;#039;t push me over the edge, as I believe I am depressed. Hopefully it&amp;#039;ll be just like when I was younger.</td>\n",
       "    </tr>\n",
       "    <tr>\n",
       "      <th>11</th>\n",
       "      <td>Depression</td>\n",
       "      <td>I have taken anti-depressants for years, with some improvement but mostly moderate to severe side affects, which makes me go off them.\\n\\nI only take Cymbalta now mostly for pain.\\n\\nWhen I began Deplin, I noticed a major improvement overnight. More energy, better disposition, and no sinking to the low lows of major depression. I have been taking it for about 3 months now and feel like a normal person for the first time ever. Best thing, no side effects.</td>\n",
       "    </tr>\n",
       "    <tr>\n",
       "      <th>13</th>\n",
       "      <td>Cough</td>\n",
       "      <td>Have a little bit of a lingering cough from a cold. Not giving me much trouble except keeps me up at night. I heard this was good so I took so I could get some sleep. Helped tremendously with the cough but then I was having bad stomach cramps and diarrhea. I hadn&amp;#039;t eaten anything that should have upset my stomach and it didn&amp;#039;t really feel like a &amp;quot;bug&amp;quot; so I looked up side effects for Delsym.  Now I wish I had done that first because I probably wouldn&amp;#039;t have taken it. So, while it worked for my cough I still didn&amp;#039;t get any sleep due to the stomach issues.</td>\n",
       "    </tr>\n",
       "  </tbody>\n",
       "</table>\n",
       "</div>"
      ],
      "text/plain": [
       "        condition  \\\n",
       "2   Birth Control   \n",
       "3   Birth Control   \n",
       "9   Birth Control   \n",
       "11  Depression      \n",
       "13  Cough           \n",
       "\n",
       "                                                                                                                                                                                                                                                                                                                                                                                                                                                                                                                                                                                                                                                                                                                                                                               review  \n",
       "2   I used to take another oral contraceptive, which had 21 pill cycle, and was very happy- very light periods, max 5 days, no other side effects. But it contained hormone gestodene, which is not available in US, so I switched to Lybrel, because the ingredients are similar. When my other pills ended, I started Lybrel immediately, on my first day of period, as the instructions said. And the period lasted for two weeks. When taking the second pack- same two weeks. And now, with third pack things got even worse- my third period lasted for two weeks and now it&#039;s the end of the third week- I still have daily brown discharge.\\nThe positive side is that I didn&#039;t have any other side effects. The idea of being period free was so tempting... Alas.  \n",
       "3   This is my first time using any form of birth control. I&#039;m glad I went with the patch, I have been on it for 8 months. At first It decreased my libido but that subsided. The only downside is that it made my periods longer (5-6 days to be exact) I used to only have periods for 3-4 days max also made my cramps intense for the first two days of my period, I never had cramps before using birth control. Other than that in happy with the patch                                                                                                                                                                                                                                                                                                                     \n",
       "9   I had been on the pill for many years. When my doctor changed my RX to chateal, it was as effective. It really did help me by completely clearing my acne, this takes about 6 months though. I did not gain extra weight, or develop any emotional health issues. I stopped taking it bc I started using a more natural method of birth control, but started to take it bc I hate that my acne came back at age 28. I really hope symptoms like depression, or weight gain do not begin to affect me as I am older now. I&#039;m also naturally moody, so this may worsen things. I was in a negative mental rut today. Also I hope this doesn&#039;t push me over the edge, as I believe I am depressed. Hopefully it&#039;ll be just like when I was younger.                    \n",
       "11  I have taken anti-depressants for years, with some improvement but mostly moderate to severe side affects, which makes me go off them.\\n\\nI only take Cymbalta now mostly for pain.\\n\\nWhen I began Deplin, I noticed a major improvement overnight. More energy, better disposition, and no sinking to the low lows of major depression. I have been taking it for about 3 months now and feel like a normal person for the first time ever. Best thing, no side effects.                                                                                                                                                                                                                                                                                                         \n",
       "13  Have a little bit of a lingering cough from a cold. Not giving me much trouble except keeps me up at night. I heard this was good so I took so I could get some sleep. Helped tremendously with the cough but then I was having bad stomach cramps and diarrhea. I hadn&#039;t eaten anything that should have upset my stomach and it didn&#039;t really feel like a &quot;bug&quot; so I looked up side effects for Delsym.  Now I wish I had done that first because I probably wouldn&#039;t have taken it. So, while it worked for my cough I still didn&#039;t get any sleep due to the stomach issues.                                                                                                                                                                      "
      ]
     },
     "execution_count": 22,
     "metadata": {},
     "output_type": "execute_result"
    }
   ],
   "source": [
    "X.head()"
   ]
  },
  {
   "cell_type": "markdown",
   "metadata": {},
   "source": [
    "## Stopwords"
   ]
  },
  {
   "cell_type": "code",
   "execution_count": 23,
   "metadata": {},
   "outputs": [
    {
     "name": "stderr",
     "output_type": "stream",
     "text": [
      "[nltk_data] Downloading package stopwords to\n",
      "[nltk_data]     C:\\Users\\prana\\AppData\\Roaming\\nltk_data...\n",
      "[nltk_data]   Package stopwords is already up-to-date!\n",
      "[nltk_data] Downloading package wordnet to\n",
      "[nltk_data]     C:\\Users\\prana\\AppData\\Roaming\\nltk_data...\n",
      "[nltk_data]   Package wordnet is already up-to-date!\n"
     ]
    },
    {
     "data": {
      "text/plain": [
       "True"
      ]
     },
     "execution_count": 23,
     "metadata": {},
     "output_type": "execute_result"
    }
   ],
   "source": [
    "import nltk\n",
    "nltk.download('stopwords')\n",
    "nltk.download('wordnet')"
   ]
  },
  {
   "cell_type": "code",
   "execution_count": 24,
   "metadata": {},
   "outputs": [],
   "source": [
    "from nltk.corpus import stopwords\n",
    "\n",
    "stop = stopwords.words('english')\n"
   ]
  },
  {
   "cell_type": "code",
   "execution_count": 25,
   "metadata": {},
   "outputs": [
    {
     "data": {
      "text/plain": [
       "['i',\n",
       " 'me',\n",
       " 'my',\n",
       " 'myself',\n",
       " 'we',\n",
       " 'our',\n",
       " 'ours',\n",
       " 'ourselves',\n",
       " 'you',\n",
       " \"you're\",\n",
       " \"you've\",\n",
       " \"you'll\",\n",
       " \"you'd\",\n",
       " 'your',\n",
       " 'yours',\n",
       " 'yourself',\n",
       " 'yourselves',\n",
       " 'he',\n",
       " 'him',\n",
       " 'his',\n",
       " 'himself',\n",
       " 'she',\n",
       " \"she's\",\n",
       " 'her',\n",
       " 'hers',\n",
       " 'herself',\n",
       " 'it',\n",
       " \"it's\",\n",
       " 'its',\n",
       " 'itself',\n",
       " 'they',\n",
       " 'them',\n",
       " 'their',\n",
       " 'theirs',\n",
       " 'themselves',\n",
       " 'what',\n",
       " 'which',\n",
       " 'who',\n",
       " 'whom',\n",
       " 'this',\n",
       " 'that',\n",
       " \"that'll\",\n",
       " 'these',\n",
       " 'those',\n",
       " 'am',\n",
       " 'is',\n",
       " 'are',\n",
       " 'was',\n",
       " 'were',\n",
       " 'be',\n",
       " 'been',\n",
       " 'being',\n",
       " 'have',\n",
       " 'has',\n",
       " 'had',\n",
       " 'having',\n",
       " 'do',\n",
       " 'does',\n",
       " 'did',\n",
       " 'doing',\n",
       " 'a',\n",
       " 'an',\n",
       " 'the',\n",
       " 'and',\n",
       " 'but',\n",
       " 'if',\n",
       " 'or',\n",
       " 'because',\n",
       " 'as',\n",
       " 'until',\n",
       " 'while',\n",
       " 'of',\n",
       " 'at',\n",
       " 'by',\n",
       " 'for',\n",
       " 'with',\n",
       " 'about',\n",
       " 'against',\n",
       " 'between',\n",
       " 'into',\n",
       " 'through',\n",
       " 'during',\n",
       " 'before',\n",
       " 'after',\n",
       " 'above',\n",
       " 'below',\n",
       " 'to',\n",
       " 'from',\n",
       " 'up',\n",
       " 'down',\n",
       " 'in',\n",
       " 'out',\n",
       " 'on',\n",
       " 'off',\n",
       " 'over',\n",
       " 'under',\n",
       " 'again',\n",
       " 'further',\n",
       " 'then',\n",
       " 'once',\n",
       " 'here',\n",
       " 'there',\n",
       " 'when',\n",
       " 'where',\n",
       " 'why',\n",
       " 'how',\n",
       " 'all',\n",
       " 'any',\n",
       " 'both',\n",
       " 'each',\n",
       " 'few',\n",
       " 'more',\n",
       " 'most',\n",
       " 'other',\n",
       " 'some',\n",
       " 'such',\n",
       " 'no',\n",
       " 'nor',\n",
       " 'not',\n",
       " 'only',\n",
       " 'own',\n",
       " 'same',\n",
       " 'so',\n",
       " 'than',\n",
       " 'too',\n",
       " 'very',\n",
       " 's',\n",
       " 't',\n",
       " 'can',\n",
       " 'will',\n",
       " 'just',\n",
       " 'don',\n",
       " \"don't\",\n",
       " 'should',\n",
       " \"should've\",\n",
       " 'now',\n",
       " 'd',\n",
       " 'll',\n",
       " 'm',\n",
       " 'o',\n",
       " 're',\n",
       " 've',\n",
       " 'y',\n",
       " 'ain',\n",
       " 'aren',\n",
       " \"aren't\",\n",
       " 'couldn',\n",
       " \"couldn't\",\n",
       " 'didn',\n",
       " \"didn't\",\n",
       " 'doesn',\n",
       " \"doesn't\",\n",
       " 'hadn',\n",
       " \"hadn't\",\n",
       " 'hasn',\n",
       " \"hasn't\",\n",
       " 'haven',\n",
       " \"haven't\",\n",
       " 'isn',\n",
       " \"isn't\",\n",
       " 'ma',\n",
       " 'mightn',\n",
       " \"mightn't\",\n",
       " 'mustn',\n",
       " \"mustn't\",\n",
       " 'needn',\n",
       " \"needn't\",\n",
       " 'shan',\n",
       " \"shan't\",\n",
       " 'shouldn',\n",
       " \"shouldn't\",\n",
       " 'wasn',\n",
       " \"wasn't\",\n",
       " 'weren',\n",
       " \"weren't\",\n",
       " 'won',\n",
       " \"won't\",\n",
       " 'wouldn',\n",
       " \"wouldn't\"]"
      ]
     },
     "execution_count": 25,
     "metadata": {},
     "output_type": "execute_result"
    }
   ],
   "source": [
    "stop"
   ]
  },
  {
   "cell_type": "markdown",
   "metadata": {},
   "source": [
    "## Lemmitization"
   ]
  },
  {
   "cell_type": "code",
   "execution_count": 26,
   "metadata": {},
   "outputs": [],
   "source": [
    "from nltk.stem import WordNetLemmatizer\n",
    "from nltk.stem import PorterStemmer\n",
    "\n",
    "porter = PorterStemmer()\n",
    "\n",
    "lemmatizer = WordNetLemmatizer()"
   ]
  },
  {
   "cell_type": "code",
   "execution_count": 27,
   "metadata": {},
   "outputs": [
    {
     "name": "stdout",
     "output_type": "stream",
     "text": [
      "sportingli\n",
      "veri\n",
      "troubl\n"
     ]
    }
   ],
   "source": [
    "print(porter.stem(\"sportingly\"))\n",
    "print(porter.stem(\"very\"))\n",
    "print(porter.stem(\"troubled\"))"
   ]
  },
  {
   "cell_type": "code",
   "execution_count": 28,
   "metadata": {},
   "outputs": [
    {
     "name": "stdout",
     "output_type": "stream",
     "text": [
      "sportingly\n",
      "very\n",
      "troubled\n"
     ]
    }
   ],
   "source": [
    "print(lemmatizer.lemmatize(\"sportingly\"))\n",
    "print(lemmatizer.lemmatize(\"very\"))\n",
    "print(lemmatizer.lemmatize(\"troubled\"))"
   ]
  },
  {
   "cell_type": "markdown",
   "metadata": {},
   "source": [
    "## Review Cleaning"
   ]
  },
  {
   "cell_type": "code",
   "execution_count": 29,
   "metadata": {},
   "outputs": [],
   "source": [
    "from bs4 import BeautifulSoup\n",
    "import re"
   ]
  },
  {
   "cell_type": "code",
   "execution_count": 30,
   "metadata": {},
   "outputs": [],
   "source": [
    "def review_to_words(raw_review):\n",
    "    # 1. Delete HTML \n",
    "    review_text = BeautifulSoup(raw_review, 'html.parser').get_text()\n",
    "    # 2. Make a space\n",
    "    letters_only = re.sub('[^a-zA-Z]', ' ', review_text)\n",
    "    # 3. lower letters\n",
    "    words = letters_only.lower().split()\n",
    "    # 5. Stopwords \n",
    "    meaningful_words = [w for w in words if not w in stop]\n",
    "    # 6. lemmitization\n",
    "    lemmitize_words = [lemmatizer.lemmatize(w) for w in meaningful_words]\n",
    "    # 7. space join words\n",
    "    return( ' '.join(lemmitize_words))"
   ]
  },
  {
   "cell_type": "code",
   "execution_count": 31,
   "metadata": {},
   "outputs": [],
   "source": [
    "X['review_clean'] = X['review'].apply(review_to_words)"
   ]
  },
  {
   "cell_type": "code",
   "execution_count": 32,
   "metadata": {},
   "outputs": [
    {
     "data": {
      "text/html": [
       "<div>\n",
       "<style scoped>\n",
       "    .dataframe tbody tr th:only-of-type {\n",
       "        vertical-align: middle;\n",
       "    }\n",
       "\n",
       "    .dataframe tbody tr th {\n",
       "        vertical-align: top;\n",
       "    }\n",
       "\n",
       "    .dataframe thead th {\n",
       "        text-align: right;\n",
       "    }\n",
       "</style>\n",
       "<table border=\"1\" class=\"dataframe\">\n",
       "  <thead>\n",
       "    <tr style=\"text-align: right;\">\n",
       "      <th></th>\n",
       "      <th>condition</th>\n",
       "      <th>review</th>\n",
       "      <th>review_clean</th>\n",
       "    </tr>\n",
       "  </thead>\n",
       "  <tbody>\n",
       "    <tr>\n",
       "      <th>2</th>\n",
       "      <td>Birth Control</td>\n",
       "      <td>I used to take another oral contraceptive, which had 21 pill cycle, and was very happy- very light periods, max 5 days, no other side effects. But it contained hormone gestodene, which is not available in US, so I switched to Lybrel, because the ingredients are similar. When my other pills ended, I started Lybrel immediately, on my first day of period, as the instructions said. And the period lasted for two weeks. When taking the second pack- same two weeks. And now, with third pack things got even worse- my third period lasted for two weeks and now it&amp;#039;s the end of the third week- I still have daily brown discharge.\\nThe positive side is that I didn&amp;#039;t have any other side effects. The idea of being period free was so tempting... Alas.</td>\n",
       "      <td>used take another oral contraceptive pill cycle happy light period max day side effect contained hormone gestodene available u switched lybrel ingredient similar pill ended started lybrel immediately first day period instruction said period lasted two week taking second pack two week third pack thing got even worse third period lasted two week end third week still daily brown discharge positive side side effect idea period free tempting ala</td>\n",
       "    </tr>\n",
       "    <tr>\n",
       "      <th>3</th>\n",
       "      <td>Birth Control</td>\n",
       "      <td>This is my first time using any form of birth control. I&amp;#039;m glad I went with the patch, I have been on it for 8 months. At first It decreased my libido but that subsided. The only downside is that it made my periods longer (5-6 days to be exact) I used to only have periods for 3-4 days max also made my cramps intense for the first two days of my period, I never had cramps before using birth control. Other than that in happy with the patch</td>\n",
       "      <td>first time using form birth control glad went patch month first decreased libido subsided downside made period longer day exact used period day max also made cramp intense first two day period never cramp using birth control happy patch</td>\n",
       "    </tr>\n",
       "    <tr>\n",
       "      <th>9</th>\n",
       "      <td>Birth Control</td>\n",
       "      <td>I had been on the pill for many years. When my doctor changed my RX to chateal, it was as effective. It really did help me by completely clearing my acne, this takes about 6 months though. I did not gain extra weight, or develop any emotional health issues. I stopped taking it bc I started using a more natural method of birth control, but started to take it bc I hate that my acne came back at age 28. I really hope symptoms like depression, or weight gain do not begin to affect me as I am older now. I&amp;#039;m also naturally moody, so this may worsen things. I was in a negative mental rut today. Also I hope this doesn&amp;#039;t push me over the edge, as I believe I am depressed. Hopefully it&amp;#039;ll be just like when I was younger.</td>\n",
       "      <td>pill many year doctor changed rx chateal effective really help completely clearing acne take month though gain extra weight develop emotional health issue stopped taking bc started using natural method birth control started take bc hate acne came back age really hope symptom like depression weight gain begin affect older also naturally moody may worsen thing negative mental rut today also hope push edge believe depressed hopefully like younger</td>\n",
       "    </tr>\n",
       "    <tr>\n",
       "      <th>11</th>\n",
       "      <td>Depression</td>\n",
       "      <td>I have taken anti-depressants for years, with some improvement but mostly moderate to severe side affects, which makes me go off them.\\n\\nI only take Cymbalta now mostly for pain.\\n\\nWhen I began Deplin, I noticed a major improvement overnight. More energy, better disposition, and no sinking to the low lows of major depression. I have been taking it for about 3 months now and feel like a normal person for the first time ever. Best thing, no side effects.</td>\n",
       "      <td>taken anti depressant year improvement mostly moderate severe side affect make go take cymbalta mostly pain began deplin noticed major improvement overnight energy better disposition sinking low low major depression taking month feel like normal person first time ever best thing side effect</td>\n",
       "    </tr>\n",
       "    <tr>\n",
       "      <th>13</th>\n",
       "      <td>Cough</td>\n",
       "      <td>Have a little bit of a lingering cough from a cold. Not giving me much trouble except keeps me up at night. I heard this was good so I took so I could get some sleep. Helped tremendously with the cough but then I was having bad stomach cramps and diarrhea. I hadn&amp;#039;t eaten anything that should have upset my stomach and it didn&amp;#039;t really feel like a &amp;quot;bug&amp;quot; so I looked up side effects for Delsym.  Now I wish I had done that first because I probably wouldn&amp;#039;t have taken it. So, while it worked for my cough I still didn&amp;#039;t get any sleep due to the stomach issues.</td>\n",
       "      <td>little bit lingering cough cold giving much trouble except keep night heard good took could get sleep helped tremendously cough bad stomach cramp diarrhea eaten anything upset stomach really feel like bug looked side effect delsym wish done first probably taken worked cough still get sleep due stomach issue</td>\n",
       "    </tr>\n",
       "  </tbody>\n",
       "</table>\n",
       "</div>"
      ],
      "text/plain": [
       "        condition  \\\n",
       "2   Birth Control   \n",
       "3   Birth Control   \n",
       "9   Birth Control   \n",
       "11  Depression      \n",
       "13  Cough           \n",
       "\n",
       "                                                                                                                                                                                                                                                                                                                                                                                                                                                                                                                                                                                                                                                                                                                                                                               review  \\\n",
       "2   I used to take another oral contraceptive, which had 21 pill cycle, and was very happy- very light periods, max 5 days, no other side effects. But it contained hormone gestodene, which is not available in US, so I switched to Lybrel, because the ingredients are similar. When my other pills ended, I started Lybrel immediately, on my first day of period, as the instructions said. And the period lasted for two weeks. When taking the second pack- same two weeks. And now, with third pack things got even worse- my third period lasted for two weeks and now it&#039;s the end of the third week- I still have daily brown discharge.\\nThe positive side is that I didn&#039;t have any other side effects. The idea of being period free was so tempting... Alas.   \n",
       "3   This is my first time using any form of birth control. I&#039;m glad I went with the patch, I have been on it for 8 months. At first It decreased my libido but that subsided. The only downside is that it made my periods longer (5-6 days to be exact) I used to only have periods for 3-4 days max also made my cramps intense for the first two days of my period, I never had cramps before using birth control. Other than that in happy with the patch                                                                                                                                                                                                                                                                                                                      \n",
       "9   I had been on the pill for many years. When my doctor changed my RX to chateal, it was as effective. It really did help me by completely clearing my acne, this takes about 6 months though. I did not gain extra weight, or develop any emotional health issues. I stopped taking it bc I started using a more natural method of birth control, but started to take it bc I hate that my acne came back at age 28. I really hope symptoms like depression, or weight gain do not begin to affect me as I am older now. I&#039;m also naturally moody, so this may worsen things. I was in a negative mental rut today. Also I hope this doesn&#039;t push me over the edge, as I believe I am depressed. Hopefully it&#039;ll be just like when I was younger.                     \n",
       "11  I have taken anti-depressants for years, with some improvement but mostly moderate to severe side affects, which makes me go off them.\\n\\nI only take Cymbalta now mostly for pain.\\n\\nWhen I began Deplin, I noticed a major improvement overnight. More energy, better disposition, and no sinking to the low lows of major depression. I have been taking it for about 3 months now and feel like a normal person for the first time ever. Best thing, no side effects.                                                                                                                                                                                                                                                                                                          \n",
       "13  Have a little bit of a lingering cough from a cold. Not giving me much trouble except keeps me up at night. I heard this was good so I took so I could get some sleep. Helped tremendously with the cough but then I was having bad stomach cramps and diarrhea. I hadn&#039;t eaten anything that should have upset my stomach and it didn&#039;t really feel like a &quot;bug&quot; so I looked up side effects for Delsym.  Now I wish I had done that first because I probably wouldn&#039;t have taken it. So, while it worked for my cough I still didn&#039;t get any sleep due to the stomach issues.                                                                                                                                                                       \n",
       "\n",
       "                                                                                                                                                                                                                                                                                                                                                                                                                                                       review_clean  \n",
       "2   used take another oral contraceptive pill cycle happy light period max day side effect contained hormone gestodene available u switched lybrel ingredient similar pill ended started lybrel immediately first day period instruction said period lasted two week taking second pack two week third pack thing got even worse third period lasted two week end third week still daily brown discharge positive side side effect idea period free tempting ala     \n",
       "3   first time using form birth control glad went patch month first decreased libido subsided downside made period longer day exact used period day max also made cramp intense first two day period never cramp using birth control happy patch                                                                                                                                                                                                                     \n",
       "9   pill many year doctor changed rx chateal effective really help completely clearing acne take month though gain extra weight develop emotional health issue stopped taking bc started using natural method birth control started take bc hate acne came back age really hope symptom like depression weight gain begin affect older also naturally moody may worsen thing negative mental rut today also hope push edge believe depressed hopefully like younger  \n",
       "11  taken anti depressant year improvement mostly moderate severe side affect make go take cymbalta mostly pain began deplin noticed major improvement overnight energy better disposition sinking low low major depression taking month feel like normal person first time ever best thing side effect                                                                                                                                                              \n",
       "13  little bit lingering cough cold giving much trouble except keep night heard good took could get sleep helped tremendously cough bad stomach cramp diarrhea eaten anything upset stomach really feel like bug looked side effect delsym wish done first probably taken worked cough still get sleep due stomach issue                                                                                                                                             "
      ]
     },
     "execution_count": 32,
     "metadata": {},
     "output_type": "execute_result"
    }
   ],
   "source": [
    "X.head()"
   ]
  },
  {
   "cell_type": "code",
   "execution_count": 33,
   "metadata": {},
   "outputs": [
    {
     "data": {
      "text/plain": [
       "'taken anti depressant year improvement mostly moderate severe side affect make go take cymbalta mostly pain began deplin noticed major improvement overnight energy better disposition sinking low low major depression taking month feel like normal person first time ever best thing side effect'"
      ]
     },
     "execution_count": 33,
     "metadata": {},
     "output_type": "execute_result"
    }
   ],
   "source": [
    "X['review_clean'][11]"
   ]
  },
  {
   "cell_type": "markdown",
   "metadata": {},
   "source": [
    "## Creating features and Target Variable"
   ]
  },
  {
   "cell_type": "code",
   "execution_count": 34,
   "metadata": {},
   "outputs": [],
   "source": [
    "X_feat = X['review_clean']\n",
    "y = X['condition']"
   ]
  },
  {
   "cell_type": "code",
   "execution_count": 35,
   "metadata": {},
   "outputs": [],
   "source": [
    "X_train, X_test, y_train, y_test = train_test_split(X_feat, y,stratify=y,test_size=0.2, random_state=0)"
   ]
  },
  {
   "cell_type": "markdown",
   "metadata": {},
   "source": [
    "## Bag of Words"
   ]
  },
  {
   "cell_type": "code",
   "execution_count": 36,
   "metadata": {},
   "outputs": [],
   "source": [
    "count_vectorizer = CountVectorizer(stop_words='english')\n",
    "\n",
    "count_train = count_vectorizer.fit_transform(X_train)\n",
    "\n",
    "count_test = count_vectorizer.transform(X_test)"
   ]
  },
  {
   "cell_type": "markdown",
   "metadata": {},
   "source": [
    "## Directory Creation"
   ]
  },
  {
   "cell_type": "code",
   "execution_count": 37,
   "metadata": {},
   "outputs": [],
   "source": [
    "# Create the \"models\" folder if it doesn't exist\n",
    "if not os.path.exists(\"models\"):\n",
    "    os.makedirs(\"models\")\n",
    "    \n",
    "if not os.path.exists(\"vectorizers\"):\n",
    "    os.makedirs(\"vectorizers\")"
   ]
  },
  {
   "cell_type": "markdown",
   "metadata": {},
   "source": [
    "## Machine Learning Model : Naive Bayes"
   ]
  },
  {
   "cell_type": "code",
   "execution_count": 38,
   "metadata": {},
   "outputs": [
    {
     "name": "stdout",
     "output_type": "stream",
     "text": [
      "Accuracy :   0.898\n"
     ]
    }
   ],
   "source": [
    "mnb = MultinomialNB()\n",
    "mnb.fit(count_train, y_train)\n",
    "\n",
    "with open(\"models/multinomial_nb_model.pkl\", \"wb\") as file:\n",
    "    pickle.dump(mnb, file)\n",
    "    \n",
    "pred = mnb.predict(count_test)\n",
    "score = metrics.accuracy_score(y_test, pred)\n",
    "print(\"Accuracy :   %0.3f\" % score)\n"
   ]
  },
  {
   "cell_type": "markdown",
   "metadata": {},
   "source": [
    "## Machine Learning Model : Passive Aggressive Classifier"
   ]
  },
  {
   "cell_type": "code",
   "execution_count": 39,
   "metadata": {},
   "outputs": [
    {
     "name": "stdout",
     "output_type": "stream",
     "text": [
      "Accuracy:   0.912\n"
     ]
    }
   ],
   "source": [
    "passive = PassiveAggressiveClassifier()\n",
    "passive.fit(count_train, y_train)\n",
    "\n",
    "with open(\"models/passive_aggressive_model.pkl\", \"wb\") as file:\n",
    "    pickle.dump(passive, file)\n",
    "    \n",
    "pred = passive.predict(count_test)\n",
    "score = metrics.accuracy_score(y_test, pred)\n",
    "print(\"Accuracy:   %0.3f\" % score)\n"
   ]
  },
  {
   "cell_type": "markdown",
   "metadata": {},
   "source": [
    "## Machine Learning Model : TFIDF"
   ]
  },
  {
   "cell_type": "code",
   "execution_count": 40,
   "metadata": {},
   "outputs": [
    {
     "name": "stdout",
     "output_type": "stream",
     "text": [
      "Accuracy:   0.922\n"
     ]
    }
   ],
   "source": [
    "tfidf_vectorizer = TfidfVectorizer(stop_words='english', max_df=0.8)\n",
    "tfidf_train = tfidf_vectorizer.fit_transform(X_train)\n",
    "tfidf_test = tfidf_vectorizer.transform(X_test)\n",
    "\n",
    "pass_tf = PassiveAggressiveClassifier()\n",
    "pass_tf.fit(tfidf_train, y_train)\n",
    "\n",
    "with open(\"models/tfidf_model.pkl\", \"wb\") as file:\n",
    "    pickle.dump(pass_tf, file)\n",
    "    \n",
    "pred = pass_tf.predict(tfidf_test)\n",
    "score = metrics.accuracy_score(y_test, pred)\n",
    "print(\"Accuracy:   %0.3f\" % score)\n"
   ]
  },
  {
   "cell_type": "markdown",
   "metadata": {},
   "source": [
    "## TFIDF: Bigrams"
   ]
  },
  {
   "cell_type": "code",
   "execution_count": 41,
   "metadata": {},
   "outputs": [
    {
     "name": "stdout",
     "output_type": "stream",
     "text": [
      "Accuracy:   0.942\n"
     ]
    }
   ],
   "source": [
    "tfidf_vectorizer2 = TfidfVectorizer(stop_words='english', max_df=0.8, ngram_range=(1,2))\n",
    "tfidf_train_2 = tfidf_vectorizer2.fit_transform(X_train)\n",
    "tfidf_test_2 = tfidf_vectorizer2.transform(X_test)\n",
    "\n",
    "pass_tf = PassiveAggressiveClassifier()\n",
    "pass_tf.fit(tfidf_train_2, y_train)\n",
    "\n",
    "with open(\"models/tfidf_bigrams_model.pkl\", \"wb\") as file:\n",
    "    pickle.dump(pass_tf, file)\n",
    "    \n",
    "pred = pass_tf.predict(tfidf_test_2)\n",
    "score = metrics.accuracy_score(y_test, pred)\n",
    "print(\"Accuracy:   %0.3f\" % score)\n"
   ]
  },
  {
   "cell_type": "markdown",
   "metadata": {},
   "source": [
    "## TFIDF : Trigrams"
   ]
  },
  {
   "cell_type": "code",
   "execution_count": 42,
   "metadata": {},
   "outputs": [
    {
     "name": "stdout",
     "output_type": "stream",
     "text": [
      "Accuracy:   0.942\n"
     ]
    }
   ],
   "source": [
    "tfidf_vectorizer3 = TfidfVectorizer(stop_words='english', max_df=0.8, ngram_range=(1,3))\n",
    "tfidf_train_3 = tfidf_vectorizer3.fit_transform(X_train)\n",
    "tfidf_test_3 = tfidf_vectorizer3.transform(X_test)\n",
    "\n",
    "pass_tf = PassiveAggressiveClassifier()\n",
    "pass_tf.fit(tfidf_train_3, y_train)\n",
    "\n",
    "with open(\"models/tfidf_trigrams_model.pkl\", \"wb\") as file:\n",
    "    pickle.dump(pass_tf, file)\n",
    "   \n",
    "with open(\"vectorizers/tfidf_vectorizer.pkl\", \"wb\") as f:\n",
    "    pickle.dump(tfidf_vectorizer3, f)\n",
    "    \n",
    "pred = pass_tf.predict(tfidf_test_3)\n",
    "score = metrics.accuracy_score(y_test, pred)\n",
    "print(\"Accuracy:   %0.3f\" % score)\n"
   ]
  },
  {
   "cell_type": "markdown",
   "metadata": {},
   "source": [
    "## Drug Recommendation"
   ]
  },
  {
   "cell_type": "code",
   "execution_count": 43,
   "metadata": {},
   "outputs": [],
   "source": [
    "    df_drug = df[(df['rating']>=9)&(df['usefulCount']>=100)].sort_values(by = ['rating', 'usefulCount'], ascending = [False, False])"
   ]
  },
  {
   "cell_type": "code",
   "execution_count": 44,
   "metadata": {},
   "outputs": [],
   "source": [
    "def recommend_drug(disease):\n",
    "    recommended_drug_list = df_drug[df_drug['condition']==disease]['drugName'].head(3).tolist()\n",
    "    return recommended_drug_list"
   ]
  },
  {
   "cell_type": "code",
   "execution_count": 45,
   "metadata": {},
   "outputs": [
    {
     "data": {
      "text/plain": [
       "['Zantac 150', 'Ranitidine', 'Zantac']"
      ]
     },
     "execution_count": 45,
     "metadata": {},
     "output_type": "execute_result"
    }
   ],
   "source": [
    "recommend_drug(\"GERD\")"
   ]
  },
  {
   "cell_type": "markdown",
   "metadata": {},
   "source": [
    "## Predictions"
   ]
  },
  {
   "cell_type": "code",
   "execution_count": 46,
   "metadata": {},
   "outputs": [],
   "source": [
    "# tfidf_trigrams_model has highest accuracy\n",
    "\n",
    "with open('models/tfidf_trigrams_model.pkl', 'rb') as f:\n",
    "    tfidf_trigrams_model = pickle.load(f)\n",
    "\n",
    "with open('vectorizers/tfidf_vectorizer.pkl', 'rb') as f:\n",
    "    tfidf_vectorizer = pickle.load(f)\n"
   ]
  },
  {
   "cell_type": "code",
   "execution_count": 47,
   "metadata": {},
   "outputs": [
    {
     "name": "stdout",
     "output_type": "stream",
     "text": [
      "Predicted disease : Diabetes, Type 2\n"
     ]
    },
    {
     "data": {
      "text/plain": [
       "['Victoza', 'Canagliflozin', 'Invokana']"
      ]
     },
     "execution_count": 47,
     "metadata": {},
     "output_type": "execute_result"
    }
   ],
   "source": [
    "text = [\"Increased thirst. Frequent urination. Increased hunger. Unintended weight loss. Fatigue. Blurred vision. Slow-healing sores. Frequent infections.\"]\n",
    "text_transformed = tfidf_vectorizer.transform(text)\n",
    "prediction = tfidf_trigrams_model.predict(text_transformed)[0]\n",
    "print(\"Predicted disease :\", prediction)\n",
    "recommend_drug(prediction)"
   ]
  },
  {
   "cell_type": "code",
   "execution_count": 48,
   "metadata": {},
   "outputs": [
    {
     "name": "stdout",
     "output_type": "stream",
     "text": [
      "Predicted disease recommend_drug(prediction): Insomnia\n"
     ]
    },
    {
     "data": {
      "text/plain": [
       "['Trazodone', 'Clonazepam', 'Remeron']"
      ]
     },
     "execution_count": 48,
     "metadata": {},
     "output_type": "execute_result"
    }
   ],
   "source": [
    "text = [\"Difficulty falling asleep at night. Waking up during the night. Waking up too early. Not feeling well-rested after a night's sleep. Daytime tiredness or sleepiness. Irritability, depression or anxiety. Difficulty paying attention, focusing on tasks or remembering. Increased errors or accidents.\"]\n",
    "text_transformed = tfidf_vectorizer.transform(text)\n",
    "prediction = tfidf_trigrams_model.predict(text_transformed)[0]\n",
    "print(\"Predicted disease recommend_drug(prediction):\", prediction)\n",
    "recommend_drug(prediction)"
   ]
  },
  {
   "cell_type": "code",
   "execution_count": 49,
   "metadata": {},
   "outputs": [
    {
     "name": "stdout",
     "output_type": "stream",
     "text": [
      "Predicted disease : Acne\n"
     ]
    },
    {
     "data": {
      "text/plain": [
       "['Tretinoin', 'Spironolactone', 'Differin']"
      ]
     },
     "execution_count": 49,
     "metadata": {},
     "output_type": "execute_result"
    }
   ],
   "source": [
    "text = [\"Crusting of skin bumps. Cysts. Papules (small red bumps) Pustules (small red bumps containing white or yellow pus) Redness around the skin eruptions. Scarring of the skin. Whiteheads. Blackheads.\"]\n",
    "text_transformed = tfidf_vectorizer.transform(text)\n",
    "prediction = tfidf_trigrams_model.predict(text_transformed)[0]\n",
    "print(\"Predicted disease :\", prediction)\n",
    "recommend_drug(prediction)"
   ]
  },
  {
   "cell_type": "code",
   "execution_count": 50,
   "metadata": {},
   "outputs": [
    {
     "name": "stdout",
     "output_type": "stream",
     "text": [
      "Predicted disease : Birth Control\n"
     ]
    },
    {
     "data": {
      "text/plain": [
       "['Mirena', 'Levonorgestrel', 'Implanon']"
      ]
     },
     "execution_count": 50,
     "metadata": {},
     "output_type": "execute_result"
    }
   ],
   "source": [
    "text = [\"Spotting between periods. Breakthrough bleeding, or spotting, refers to when vaginal bleeding occurs between menstrual cycles. Nausea. Breast tenderness. Headaches and migraine. Weight gain. Mood changes. Missed periods. Decreased libido.\"]\n",
    "text_transformed = tfidf_vectorizer.transform(text)\n",
    "prediction = tfidf_trigrams_model.predict(text_transformed)[0]\n",
    "print(\"Predicted disease :\", prediction)\n",
    "recommend_drug(prediction)"
   ]
  },
  {
   "cell_type": "code",
   "execution_count": 51,
   "metadata": {},
   "outputs": [
    {
     "name": "stdout",
     "output_type": "stream",
     "text": [
      "Predicted disease : GERD\n"
     ]
    },
    {
     "data": {
      "text/plain": [
       "['Zantac 150', 'Ranitidine', 'Zantac']"
      ]
     },
     "execution_count": 51,
     "metadata": {},
     "output_type": "execute_result"
    }
   ],
   "source": [
    "text = [\"A burning sensation in your chest (heartburn), usually after eating, which might be worse at night or while lying down. Backwash (regurgitation) of food or sour liquid. Upper abdominal or chest pain. Trouble swallowing (dysphagia) Sensation of a lump in your throat.\"]\n",
    "text_transformed = tfidf_vectorizer.transform(text)\n",
    "prediction = tfidf_trigrams_model.predict(text_transformed)[0]\n",
    "print(\"Predicted disease :\", prediction)\n",
    "recommend_drug(prediction)"
   ]
  },
  {
   "cell_type": "code",
   "execution_count": null,
   "metadata": {},
   "outputs": [],
   "source": []
  }
 ],
 "metadata": {
  "kernelspec": {
   "display_name": "Python 3 (ipykernel)",
   "language": "python",
   "name": "python3"
  },
  "language_info": {
   "codemirror_mode": {
    "name": "ipython",
    "version": 3
   },
   "file_extension": ".py",
   "mimetype": "text/x-python",
   "name": "python",
   "nbconvert_exporter": "python",
   "pygments_lexer": "ipython3",
   "version": "3.10.11"
  }
 },
 "nbformat": 4,
 "nbformat_minor": 4
}
